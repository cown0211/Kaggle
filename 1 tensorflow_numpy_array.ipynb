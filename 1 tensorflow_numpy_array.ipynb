{
 "cells": [
  {
   "cell_type": "code",
   "execution_count": null,
   "id": "f4d3b819",
   "metadata": {},
   "outputs": [],
   "source": [
    "'''\n",
    "anaconda prompt 실행\n",
    "\n",
    "# tf라는 이름의 가상환경 생성, python 버젼 3.6 기준\n",
    "conda create -n tf python=3.6\n",
    "# 가상환경 tf 활성화, base->tf\n",
    "conda activate tf\n",
    "\n",
    "# 라이브러리 설치\n",
    "conda install python=3.6\n",
    "pip install tensorflow\n",
    "conda install pandas\n",
    "conda install matplotlib\n",
    "conda install scikit-learn\n",
    "conda install keras\n",
    "conda install jupyter notebook\n",
    "\n",
    "# 재실행\n",
    "conda activate tf\n",
    "jupyter notebook # jupyter notebook 실행\n",
    "'''"
   ]
  },
  {
   "cell_type": "code",
   "execution_count": 1,
   "id": "ac859214",
   "metadata": {},
   "outputs": [],
   "source": [
    "# 라이브러리 불러오기\n",
    "import tensorflow as tf\n",
    "import keras\n",
    "import numpy as np"
   ]
  },
  {
   "cell_type": "code",
   "execution_count": 17,
   "id": "dee8bd6f",
   "metadata": {},
   "outputs": [
    {
     "name": "stdout",
     "output_type": "stream",
     "text": [
      "array = [[ 1  2  3]\n",
      " [ 4  5  6]\n",
      " [ 7  8  9]\n",
      " [10 11 12]]\n",
      "\n",
      "\n",
      "요소의 자료형: int32\n",
      "요소 수: 12\n",
      "차원 수: 2\n",
      "각 차원의 요소 수: (4, 3)\n"
     ]
    }
   ],
   "source": [
    "# 배열 array 생성\n",
    "array = np.array([[1,2,3], [4,5,6,], [7,8,9], [10,11,12]])\n",
    "print('array =', array)\n",
    "\n",
    "print('\\n')\n",
    "print('요소의 자료형:', array.dtype) # 수치형 자료\n",
    "print('요소 수:', array.size)        # 1, 2, 3, ..., 12; 12개\n",
    "print('차원 수:', array.ndim)        # list 안에 list\n",
    "print('각 차원의 요소 수:', array.shape) # list가 4개, list 안에 3개"
   ]
  },
  {
   "cell_type": "code",
   "execution_count": 14,
   "id": "c5dd6e83",
   "metadata": {
    "scrolled": true
   },
   "outputs": [
    {
     "name": "stdout",
     "output_type": "stream",
     "text": [
      "array2 = a\n",
      "\n",
      "\n",
      "요소의 자료형: <U1\n",
      "요소 수: 1\n",
      "차원 수: 0\n",
      "각 차원의 요소 수: ()\n"
     ]
    }
   ],
   "source": [
    "array2 = np.array('a')\n",
    "print('array2 =', array2)\n",
    "\n",
    "print('\\n')\n",
    "print('요소의 자료형:', array2.dtype) # 수치형 자료\n",
    "print('요소 수:', array2.size)        # 'a' 1개\n",
    "print('차원 수:', array2.ndim)        # list 없고 단순히 문자 한개\n",
    "print('각 차원의 요소 수:', array2.shape)"
   ]
  },
  {
   "cell_type": "code",
   "execution_count": 15,
   "id": "f6a7b672",
   "metadata": {},
   "outputs": [
    {
     "name": "stdout",
     "output_type": "stream",
     "text": [
      "array3 = [1 2 3]\n",
      "\n",
      "\n",
      "요소의 자료형: int32\n",
      "요소 수: 3\n",
      "차원 수: 1\n",
      "각 차원의 요소 수: (3,)\n"
     ]
    }
   ],
   "source": [
    "array3 = np.array([1,2,3])\n",
    "print('array3 =', array3)\n",
    "\n",
    "print('\\n')\n",
    "print('요소의 자료형:', array3.dtype) # 수치형 자료\n",
    "print('요소 수:', array3.size)        # 1, 2, 3; 3개\n",
    "print('차원 수:', array3.ndim)        # list 1개\n",
    "print('각 차원의 요소 수:', array3.shape) # list 안에 3개 요소"
   ]
  },
  {
   "cell_type": "code",
   "execution_count": 20,
   "id": "97cff42c",
   "metadata": {},
   "outputs": [
    {
     "name": "stdout",
     "output_type": "stream",
     "text": [
      "div_array_1 =  [[0.5 1.  1.5]\n",
      " [2.  2.5 3. ]\n",
      " [3.5 4.  4.5]\n",
      " [5.  5.5 6. ]]\n",
      "\n",
      "\n",
      "div_array_2 =  0.5\n",
      "\n",
      "\n",
      "div_array_3 =  6.0\n"
     ]
    }
   ],
   "source": [
    "# 배열의 모든 요소를 2로 나눔\n",
    "div_array_1 = array / 2\n",
    "print('div_array_1 = ', div_array_1)\n",
    "\n",
    "\n",
    "print('\\n')\n",
    "# array의 [0][0]번째 요소(1)를 2로 나누고 결과 출력\n",
    "div_array_2 = array[0][0] / 2\n",
    "print('div_array_2 = ', div_array_2)\n",
    "\n",
    "\n",
    "print('\\n')\n",
    "# array의 [3][2]번째 요소(12)를 2로 나누고 결과 출력\n",
    "div_array_3 = array[3][2] / 2\n",
    "print('div_array_3 = ', div_array_3)"
   ]
  }
 ],
 "metadata": {
  "kernelspec": {
   "display_name": "Python 3",
   "language": "python",
   "name": "python3"
  },
  "language_info": {
   "codemirror_mode": {
    "name": "ipython",
    "version": 3
   },
   "file_extension": ".py",
   "mimetype": "text/x-python",
   "name": "python",
   "nbconvert_exporter": "python",
   "pygments_lexer": "ipython3",
   "version": "3.6.13"
  }
 },
 "nbformat": 4,
 "nbformat_minor": 5
}
