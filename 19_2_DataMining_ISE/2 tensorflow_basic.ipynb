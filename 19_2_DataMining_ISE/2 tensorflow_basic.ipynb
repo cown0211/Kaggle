{
 "cells": [
  {
   "cell_type": "code",
   "execution_count": 5,
   "id": "4c017878",
   "metadata": {},
   "outputs": [
    {
     "name": "stdout",
     "output_type": "stream",
     "text": [
      "WARNING:tensorflow:From C:\\Users\\wngud\\anaconda3\\envs\\tensorflow\\lib\\site-packages\\tensorflow\\python\\compat\\v2_compat.py:101: disable_resource_variables (from tensorflow.python.ops.variable_scope) is deprecated and will be removed in a future version.\n",
      "Instructions for updating:\n",
      "non-resource variables are not supported in the long term\n"
     ]
    }
   ],
   "source": [
    "import tensorflow.compat.v1 as tf\n",
    "tf.disable_v2_behavior() # tf 구버젼 사용"
   ]
  },
  {
   "cell_type": "code",
   "execution_count": null,
   "id": "3c588963",
   "metadata": {},
   "outputs": [],
   "source": [
    "## 문자열 출력"
   ]
  },
  {
   "cell_type": "code",
   "execution_count": 7,
   "id": "9a9a668c",
   "metadata": {},
   "outputs": [
    {
     "name": "stdout",
     "output_type": "stream",
     "text": [
      "Tensor(\"Const_1:0\", shape=(), dtype=string)\n"
     ]
    }
   ],
   "source": [
    "# tf.constant 메서드로 hello 변수에 할당\n",
    "hello = tf.constant('Hello, Tensorflow')\n",
    "\n",
    "print(hello)\n",
    "# hello가 tensorflow의 tensor라는 자료형이고 constant를 담고 있음을 의미함\n",
    "# 'Hello, Tensorflow'라고 출력되지 않음을 주의"
   ]
  },
  {
   "cell_type": "code",
   "execution_count": 24,
   "id": "2aeb553c",
   "metadata": {},
   "outputs": [
    {
     "name": "stdout",
     "output_type": "stream",
     "text": [
      "b'Hello, Tensorflow'\n"
     ]
    }
   ],
   "source": [
    "hello = tf.constant('Hello, Tensorflow')\n",
    "sess = tf.Session()\n",
    "print(sess.run(hello))\n",
    "sess.close()"
   ]
  },
  {
   "cell_type": "code",
   "execution_count": null,
   "id": "b620e109",
   "metadata": {},
   "outputs": [],
   "source": [
    "## tensor 연산"
   ]
  },
  {
   "cell_type": "code",
   "execution_count": 20,
   "id": "7d532300",
   "metadata": {},
   "outputs": [
    {
     "name": "stdout",
     "output_type": "stream",
     "text": [
      "Tensor(\"Add:0\", shape=(), dtype=int32)\n"
     ]
    }
   ],
   "source": [
    "a = tf.constant(10)\n",
    "b = tf.constant(30)\n",
    "c = tf.add(a, b)\n",
    "\n",
    "print(c)\n",
    "# 40이 출력돼야 하는데 출력이 안됨\n",
    "# 이는 tensorflow가 graph 생성과 실행 두 단계로 분리되어 있기 때문"
   ]
  },
  {
   "cell_type": "code",
   "execution_count": 23,
   "id": "9374b146",
   "metadata": {},
   "outputs": [
    {
     "name": "stdout",
     "output_type": "stream",
     "text": [
      "40\n"
     ]
    }
   ],
   "source": [
    "a = tf.constant(10)\n",
    "b = tf.constant(30)\n",
    "c = tf.add(a, b)\n",
    "\n",
    "# 따라서 실행을 위해선 Session 객체와 run 메서드를 사용해야 함\n",
    "sess = tf.Session()\n",
    "print(sess.run(c))\n",
    "sess.close()"
   ]
  },
  {
   "cell_type": "code",
   "execution_count": null,
   "id": "a90f64d2",
   "metadata": {},
   "outputs": [],
   "source": [
    "## 행렬의 곱"
   ]
  },
  {
   "cell_type": "code",
   "execution_count": 30,
   "id": "0c45a0f5",
   "metadata": {},
   "outputs": [
    {
     "name": "stdout",
     "output_type": "stream",
     "text": [
      "A =  [[1. 2.]\n",
      " [3. 4.]] \n",
      "\n",
      "B =  [[1.]\n",
      " [3.]] \n",
      "\n",
      "C =  [[ 7.]\n",
      " [15.]]\n"
     ]
    }
   ],
   "source": [
    "A = tf.constant([[1., 2.], [3., 4.]]) # 2x2, 1행 1,2, 2행 3,4\n",
    "B = tf.constant([[1.], [3.]])         # 2x1, 1행 1, 2행 3\n",
    "C = tf.matmul(A, B)\n",
    "\n",
    "sess = tf.Session()\n",
    "sess.run(tf.global_variables_initializer())\n",
    "\n",
    "print('A = ', sess.run(A), '\\n')\n",
    "print('B = ', sess.run(B), '\\n')\n",
    "print('C = ', sess.run(C))           # 2x1, 1행 7, 2행 15"
   ]
  },
  {
   "cell_type": "code",
   "execution_count": 31,
   "id": "9bbca231",
   "metadata": {},
   "outputs": [
    {
     "name": "stdout",
     "output_type": "stream",
     "text": [
      "A =  [[1. 2.]\n",
      " [3. 4.]] \n",
      "\n",
      "B =  [[5. 6.]\n",
      " [7. 8.]] \n",
      "\n",
      "C =  [[19. 22.]\n",
      " [43. 50.]]\n"
     ]
    }
   ],
   "source": [
    "A = tf.constant([[1., 2.], [3., 4.]]) # 2x2, 1행 1,2, 2행 3,4\n",
    "B = tf.constant([[5., 6.], [7., 8.]]) # 2x2, 1행 5,6, 2행 7,8\n",
    "C = tf.matmul(A, B)\n",
    "\n",
    "sess = tf.Session()\n",
    "sess.run(tf.global_variables_initializer())\n",
    "\n",
    "print('A = ', sess.run(A), '\\n')\n",
    "print('B = ', sess.run(B), '\\n')\n",
    "print('C = ', sess.run(C))           # 2x2, 1행 19,22, 2행 43,50"
   ]
  },
  {
   "cell_type": "code",
   "execution_count": 33,
   "id": "ea4eb841",
   "metadata": {},
   "outputs": [
    {
     "name": "stdout",
     "output_type": "stream",
     "text": [
      "[[22. 28.]\n",
      " [49. 64.]]\n",
      "[[22. 28.]\n",
      " [49. 64.]]\n"
     ]
    }
   ],
   "source": [
    "# cf) numpy\n",
    "import numpy as np\n",
    "\n",
    "A = np.array([[1., 2., 3.], [4., 5., 6.]])   # 2x3, 1행 1,2,3, 2행 4,5,6\n",
    "B = np.array([[1., 2.], [3., 4.], [5., 6.]]) # 3x2, 1행 1,2, 2행 3,4, 3행 5,6\n",
    "\n",
    "C = np.dot(A, B)\n",
    "print(C)\n",
    "\n",
    "D = np.matmul(A, B)\n",
    "print(D)"
   ]
  },
  {
   "cell_type": "code",
   "execution_count": 34,
   "id": "f403490a",
   "metadata": {},
   "outputs": [
    {
     "name": "stdout",
     "output_type": "stream",
     "text": [
      "Tensor(\"Placeholder:0\", shape=(?, 3), dtype=float32)\n"
     ]
    }
   ],
   "source": [
    "# placeholder와 variable\n",
    "X = tf.placeholder(tf.float32, [None, 3])\n",
    "print(X)\n",
    "\n",
    "# shape가 (?, 3)인 float32 자료형을 가진 tensor 생성\n",
    "# 나중에 할당될 자료는 1차원은 unknown, 2차원은 3개 요소를 가져야 함\n",
    "# ex) [[1., 2., 3.], [4., 5., 6.]]"
   ]
  }
 ],
 "metadata": {
  "kernelspec": {
   "display_name": "Python 3",
   "language": "python",
   "name": "python3"
  },
  "language_info": {
   "codemirror_mode": {
    "name": "ipython",
    "version": 3
   },
   "file_extension": ".py",
   "mimetype": "text/x-python",
   "name": "python",
   "nbconvert_exporter": "python",
   "pygments_lexer": "ipython3",
   "version": "3.6.13"
  }
 },
 "nbformat": 4,
 "nbformat_minor": 5
}
