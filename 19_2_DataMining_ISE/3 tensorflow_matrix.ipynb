{
 "cells": [
  {
   "cell_type": "code",
   "execution_count": 1,
   "id": "876b7491",
   "metadata": {},
   "outputs": [
    {
     "name": "stdout",
     "output_type": "stream",
     "text": [
      "WARNING:tensorflow:From C:\\Users\\wngud\\anaconda3\\envs\\tensorflow\\lib\\site-packages\\tensorflow\\python\\compat\\v2_compat.py:101: disable_resource_variables (from tensorflow.python.ops.variable_scope) is deprecated and will be removed in a future version.\n",
      "Instructions for updating:\n",
      "non-resource variables are not supported in the long term\n"
     ]
    }
   ],
   "source": [
    "import tensorflow.compat.v1 as tf\n",
    "tf.disable_v2_behavior() # tf 구버젼 사용\n",
    "import numpy as np"
   ]
  },
  {
   "cell_type": "code",
   "execution_count": 6,
   "id": "c48e792d",
   "metadata": {},
   "outputs": [
    {
     "name": "stdout",
     "output_type": "stream",
     "text": [
      "X =  [[1. 2.]\n",
      " [5. 6.]]\n",
      "Y1(axis no) =  3.5\n",
      "Y2(axis 0) =  [3. 4.]\n",
      "Y3(axis 1) =  [1.5 5.5]\n"
     ]
    }
   ],
   "source": [
    "X = tf.constant([[1., 2.], [5., 6.]])\n",
    "\n",
    "Y1 = tf.reduce_mean(X)\n",
    "Y2 = tf.reduce_mean(X, axis = 0)\n",
    "Y3 = tf.reduce_mean(X, axis = 1)\n",
    "\n",
    "sess = tf.Session()\n",
    "\n",
    "print('X = ', sess.run(X))\n",
    "print('Y1(axis no) = ', sess.run(Y1)) # 전체 평균 (1+2+5+6)/4\n",
    "print('Y2(axis 0) = ', sess.run(Y2))  # 세로로 평균\n",
    "print('Y3(axis 1) = ', sess.run(Y3))  # 가로로 평균"
   ]
  },
  {
   "cell_type": "code",
   "execution_count": 7,
   "id": "898a7d85",
   "metadata": {},
   "outputs": [
    {
     "data": {
      "text/plain": [
       "array([ 0,  1,  2,  3,  4,  5,  6,  7,  8,  9, 10, 11, 12, 13, 14, 15, 16,\n",
       "       17, 18, 19, 20, 21, 22, 23, 24, 25, 26, 27, 28, 29, 30, 31])"
      ]
     },
     "execution_count": 7,
     "metadata": {},
     "output_type": "execute_result"
    }
   ],
   "source": [
    "arr = np.arange(0, 32) # 0부터 31까지\n",
    "arr"
   ]
  },
  {
   "cell_type": "code",
   "execution_count": 18,
   "id": "4751ccf5",
   "metadata": {},
   "outputs": [
    {
     "data": {
      "text/plain": [
       "array([[[ 0,  1,  2,  3],\n",
       "        [ 4,  5,  6,  7]],\n",
       "\n",
       "       [[ 8,  9, 10, 11],\n",
       "        [12, 13, 14, 15]],\n",
       "\n",
       "       [[16, 17, 18, 19],\n",
       "        [20, 21, 22, 23]],\n",
       "\n",
       "       [[24, 25, 26, 27],\n",
       "        [28, 29, 30, 31]]])"
      ]
     },
     "execution_count": 18,
     "metadata": {},
     "output_type": "execute_result"
    }
   ],
   "source": [
    "v = arr.reshape(4, 2, 4) # 4x2 행렬을 4개\n",
    "v\n",
    "# row1, 0~7; row2, 8~15\n",
    "# col1, 0~4; col2, 4~7\n",
    "# depth; row, col 정해진 뒤 좌->우 번호"
   ]
  },
  {
   "cell_type": "code",
   "execution_count": 21,
   "id": "0228fd4f",
   "metadata": {},
   "outputs": [
    {
     "data": {
      "text/plain": [
       "array([[ 8,  9, 10, 11],\n",
       "       [12, 13, 14, 15]])"
      ]
     },
     "execution_count": 21,
     "metadata": {},
     "output_type": "execute_result"
    }
   ],
   "source": [
    "v[1] # row2"
   ]
  },
  {
   "cell_type": "code",
   "execution_count": 20,
   "id": "de55ac01",
   "metadata": {},
   "outputs": [
    {
     "data": {
      "text/plain": [
       "array([4, 5, 6, 7])"
      ]
     },
     "execution_count": 20,
     "metadata": {},
     "output_type": "execute_result"
    }
   ],
   "source": [
    "v[0,1] # row1, col2"
   ]
  },
  {
   "cell_type": "code",
   "execution_count": 23,
   "id": "ca41e899",
   "metadata": {},
   "outputs": [
    {
     "data": {
      "text/plain": [
       "29"
      ]
     },
     "execution_count": 23,
     "metadata": {},
     "output_type": "execute_result"
    }
   ],
   "source": [
    "v[3,1,1] # row4, col2, depth2"
   ]
  },
  {
   "cell_type": "code",
   "execution_count": 24,
   "id": "576684d1",
   "metadata": {},
   "outputs": [
    {
     "data": {
      "text/plain": [
       "3"
      ]
     },
     "execution_count": 24,
     "metadata": {},
     "output_type": "execute_result"
    }
   ],
   "source": [
    "v.ndim"
   ]
  },
  {
   "cell_type": "code",
   "execution_count": 25,
   "id": "f4f4f137",
   "metadata": {},
   "outputs": [
    {
     "data": {
      "text/plain": [
       "496"
      ]
     },
     "execution_count": 25,
     "metadata": {},
     "output_type": "execute_result"
    }
   ],
   "source": [
    "v.sum()"
   ]
  },
  {
   "cell_type": "code",
   "execution_count": 29,
   "id": "b3ae9805",
   "metadata": {},
   "outputs": [
    {
     "data": {
      "text/plain": [
       "(2, 4)"
      ]
     },
     "execution_count": 29,
     "metadata": {},
     "output_type": "execute_result"
    }
   ],
   "source": [
    "res01 = v.sum(axis = 0) # axis=0은 세로로, axis=1은 가로로\n",
    "res01.shape # 2x4"
   ]
  },
  {
   "cell_type": "code",
   "execution_count": 30,
   "id": "81a329a7",
   "metadata": {},
   "outputs": [
    {
     "data": {
      "text/plain": [
       "array([[48, 52, 56, 60],\n",
       "       [64, 68, 72, 76]])"
      ]
     },
     "execution_count": 30,
     "metadata": {},
     "output_type": "execute_result"
    }
   ],
   "source": [
    "res01"
   ]
  },
  {
   "cell_type": "code",
   "execution_count": 34,
   "id": "26d7853e",
   "metadata": {},
   "outputs": [
    {
     "data": {
      "text/plain": [
       "(4, 4)"
      ]
     },
     "execution_count": 34,
     "metadata": {},
     "output_type": "execute_result"
    }
   ],
   "source": [
    "res02 = v.sum(axis = 1)\n",
    "res02.shape # 4x4"
   ]
  },
  {
   "cell_type": "code",
   "execution_count": null,
   "id": "499b6393",
   "metadata": {},
   "outputs": [],
   "source": [
    "res02"
   ]
  },
  {
   "cell_type": "code",
   "execution_count": 35,
   "id": "bfe8756e",
   "metadata": {},
   "outputs": [
    {
     "data": {
      "text/plain": [
       "(4, 2)"
      ]
     },
     "execution_count": 35,
     "metadata": {},
     "output_type": "execute_result"
    }
   ],
   "source": [
    "res03 = v.sum(axis = 2)\n",
    "res03.shape # 4x2"
   ]
  },
  {
   "cell_type": "code",
   "execution_count": 36,
   "id": "b9d486ad",
   "metadata": {},
   "outputs": [
    {
     "data": {
      "text/plain": [
       "array([[  6,  22],\n",
       "       [ 38,  54],\n",
       "       [ 70,  86],\n",
       "       [102, 118]])"
      ]
     },
     "execution_count": 36,
     "metadata": {},
     "output_type": "execute_result"
    }
   ],
   "source": [
    "res03"
   ]
  }
 ],
 "metadata": {
  "kernelspec": {
   "display_name": "Python 3",
   "language": "python",
   "name": "python3"
  },
  "language_info": {
   "codemirror_mode": {
    "name": "ipython",
    "version": 3
   },
   "file_extension": ".py",
   "mimetype": "text/x-python",
   "name": "python",
   "nbconvert_exporter": "python",
   "pygments_lexer": "ipython3",
   "version": "3.6.13"
  }
 },
 "nbformat": 4,
 "nbformat_minor": 5
}
