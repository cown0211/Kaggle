{
 "cells": [
  {
   "cell_type": "code",
   "execution_count": 5,
   "id": "876b7491",
   "metadata": {},
   "outputs": [
    {
     "name": "stdout",
     "output_type": "stream",
     "text": [
      "WARNING:tensorflow:From C:\\Users\\wngud\\anaconda3\\envs\\tensorflow\\lib\\site-packages\\tensorflow\\python\\compat\\v2_compat.py:101: disable_resource_variables (from tensorflow.python.ops.variable_scope) is deprecated and will be removed in a future version.\n",
      "Instructions for updating:\n",
      "non-resource variables are not supported in the long term\n"
     ]
    }
   ],
   "source": [
    "import tensorflow.compat.v1 as tf\n",
    "tf.disable_v2_behavior() # tf 구버젼 사용\n",
    "import matplotlib.pyplot as plt"
   ]
  },
  {
   "cell_type": "code",
   "execution_count": 6,
   "id": "58560434",
   "metadata": {},
   "outputs": [],
   "source": [
    "X = [1,2,3]\n",
    "Y = [1,2,3]\n",
    "W = tf.placeholder(dtype = tf.float32) # theta에 해당, 공간만 할당해둔 상태"
   ]
  },
  {
   "cell_type": "code",
   "execution_count": 7,
   "id": "7015d236",
   "metadata": {},
   "outputs": [],
   "source": [
    "# hypothesis function 정의 (theta 대신 W)\n",
    "y_hat = X * W\n",
    "\n",
    "# cost function 정의\n",
    "cost = tf.reduce_mean(tf.square(y_hat - Y))\n",
    "sess = tf.Session()\n",
    "sess.run(tf.global_variables_initializer())\n",
    "# sess와 sess.run은 항상 필요!"
   ]
  },
  {
   "cell_type": "code",
   "execution_count": 8,
   "id": "0a59a438",
   "metadata": {},
   "outputs": [],
   "source": [
    "# Variables for plotting cost function\n",
    "W_val = []\n",
    "cost_val = []\n",
    "# W와 cost를 빈 array 생성\n",
    "\n",
    "\n",
    "# fit the cost function\n",
    "for i in range(-30, 50):\n",
    "    feed_W = i * 0.1 # W를 -3에서 5까지의 범위로 채움\n",
    "    curr_cost, curr_W = sess.run([cost, W], feed_dict = {W: feed_W})\n",
    "    W_val.append(curr_W)\n",
    "    cost_val.append(curr_cost)"
   ]
  },
  {
   "cell_type": "code",
   "execution_count": 10,
   "id": "6718945a",
   "metadata": {},
   "outputs": [
    {
     "data": {
      "image/png": "[encoded data removed]",
      "text/plain": [
       "<Figure size 432x288 with 1 Axes>"
      ]
     },
     "metadata": {
      "needs_background": "light"
     },
     "output_type": "display_data"
    }
   ],
   "source": [
    "# plot the cost function\n",
    "plt.plot(W_val, cost_val)\n",
    "plt.xlabel('W')\n",
    "plt.ylabel('Cost(W)')\n",
    "plt.show()"
   ]
  }
 ],
 "metadata": {
  "kernelspec": {
   "display_name": "Python 3",
   "language": "python",
   "name": "python3"
  },
  "language_info": {
   "codemirror_mode": {
    "name": "ipython",
    "version": 3
   },
   "file_extension": ".py",
   "mimetype": "text/x-python",
   "name": "python",
   "nbconvert_exporter": "python",
   "pygments_lexer": "ipython3",
   "version": "3.6.13"
  }
 },
 "nbformat": 4,
 "nbformat_minor": 5
}
