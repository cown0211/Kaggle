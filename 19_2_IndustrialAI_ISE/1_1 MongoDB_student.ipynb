{
 "cells": [
  {
   "cell_type": "code",
   "execution_count": null,
   "id": "10fb760e",
   "metadata": {},
   "outputs": [],
   "source": [
    "from pymongo import MongoClient\n",
    "\n",
    "# local mongodb 서버에 연결 / localhost\n",
    "client = MongoClient('localhost', 27017) # 27017; 기본 포트\n",
    "\n",
    "# db라는 변수에 studentDb라는 db 저장\n",
    "# studentDb가 Database 이름\n",
    "db = client.studentDb\n",
    "\n",
    "# collection 정의\n",
    "collection = db.grades # grades가 collection/table 이름\n",
    "\n",
    "gradesData = [{'StudentID': '2018001', 'Grade': 80}, \n",
    "              {'StudentID': '2018002', 'Grade': 70}, \n",
    "              {'StudentID': '2018003', 'Grade': 65}, \n",
    "              {'StudentID': '2018004', 'Grade': 85}, \n",
    "              {'StudentID': '2018005', 'Grade': 90}, \n",
    "              {'StudentID': '2018006', 'Grade': 58}, \n",
    "              {'StudentID': '2018007', 'Grade': 76}, \n",
    "              {'StudentID': '2018008', 'Grade': 95}, \n",
    "              {'StudentID': '2018009', 'Grade': 88}, \n",
    "              {'StudentID': '2018010', 'Grade': 63}]"
   ]
  },
  {
   "cell_type": "code",
   "execution_count": null,
   "id": "12006568",
   "metadata": {},
   "outputs": [],
   "source": [
    "# gradesData의 정보를 MongoDB로 저장\n",
    "collection.insert_many(gradesData)"
   ]
  },
  {
   "cell_type": "code",
   "execution_count": null,
   "id": "c1a90fe4",
   "metadata": {},
   "outputs": [],
   "source": [
    "# 모든 data print\n",
    "# 데이터를 보기 위해 dtcursor 변수에 할당\n",
    "dtcursor = collection.find()\n",
    "\n",
    "# 반복문 형태로 print\n",
    "for dt in dtcursor:\n",
    "    print(dt)"
   ]
  },
  {
   "cell_type": "code",
   "execution_count": null,
   "id": "c85238ff",
   "metadata": {},
   "outputs": [],
   "source": [
    "# 점수를 학점으로 변환하는 함수 정의\n",
    "def getGradeLetter(grade):\n",
    "    if (grade >= 90):\n",
    "        return 'A'\n",
    "    elif (grade >= 80 and grade < 90):\n",
    "        return 'B'\n",
    "    elif (grade >= 70 and grade < 80):\n",
    "        return 'C'\n",
    "    elif (grade >= 60 and grade < 70):\n",
    "        return 'D'\n",
    "    else:\n",
    "        return 'F'"
   ]
  },
  {
   "cell_type": "code",
   "execution_count": null,
   "id": "1ada4a3e",
   "metadata": {},
   "outputs": [],
   "source": [
    "gradeLetter = getGradeLetter(90)\n",
    "print('Your Grade Letter is', gradeLetter)"
   ]
  },
  {
   "cell_type": "code",
   "execution_count": null,
   "id": "6b54dda9",
   "metadata": {},
   "outputs": [],
   "source": [
    "# 기존 studentDb에 letter라는 열 붙이기\n",
    "dtcursor = collection.find()\n",
    "\n",
    "# 반복문 형식으로 모든 학생에 적용\n",
    "for dt in dtcursor:\n",
    "    # gradeLetter에 각 학생들 grade로부터 변환된 값 할당\n",
    "    gradeLetter = getGradeLetter(dt['grade'])\n",
    "    \n",
    "    # letter라는 새로운 열에 gradeLetter를 할당\n",
    "    setUpdated = {'$set': {'letter': gradeLetter}}\n",
    "    \n",
    "    # 기존 DB에서 id를 key로 하여 하나의 레코드만 수정 (update_one)\n",
    "    collection.update_one({'_id': dt['_id']}, setUpdated, upsert = False)"
   ]
  },
  {
   "cell_type": "code",
   "execution_count": null,
   "id": "52164b6e",
   "metadata": {},
   "outputs": [],
   "source": [
    "dtcursor = collection.find()\n",
    "\n",
    "for dt in dtcursor:\n",
    "    print(dt)"
   ]
  }
 ],
 "metadata": {
  "kernelspec": {
   "display_name": "Python 3",
   "language": "python",
   "name": "python3"
  },
  "language_info": {
   "codemirror_mode": {
    "name": "ipython",
    "version": 3
   },
   "file_extension": ".py",
   "mimetype": "text/x-python",
   "name": "python",
   "nbconvert_exporter": "python",
   "pygments_lexer": "ipython3",
   "version": "3.8.8"
  }
 },
 "nbformat": 4,
 "nbformat_minor": 5
}
