{
 "cells": [
  {
   "cell_type": "code",
   "execution_count": null,
   "id": "10fb760e",
   "metadata": {},
   "outputs": [],
   "source": [
    "from pymongo import MongoClient\n",
    "\n",
    "# local mongodb 서버에 연결 / localhost\n",
    "client = MongoClient('localhost', 27017) # 27017; 기본 포트\n",
    "\n",
    "# db라는 변수에 patient라는 DB 저장\n",
    "# patientDB가 Database 이름\n",
    "db = client.patientDB\n",
    "\n",
    "# collection(table) 정의\n",
    "collection = db.patient # patient가 collection(table) 이름\n",
    "\n",
    "patientData = [{'PatientID': 'PA001', 'Date': '9/3/2018','Blood Sugar Measure': 154 ,'Blood Sugar Measurement Point': 'Before Dinner'}, \n",
    "               {'PatientID': 'PA002', 'Date': '9/4/2018','Blood Sugar Measure': 115 ,'Blood Sugar Measurement Point': 'Fasting'}, \n",
    "               {'PatientID': 'PA003', 'Date': '9/5/2018','Blood Sugar Measure': 224 ,'Blood Sugar Measurement Point': 'After Lunch'}, \n",
    "               {'PatientID': 'PA004', 'Date': '9/6/2018','Blood Sugar Measure': 140 ,'Blood Sugar Measurement Point': 'Before Breakfast'}, \n",
    "               {'PatientID': 'PA005', 'Date': '9/7/2018','Blood Sugar Measure': 154 ,'Blood Sugar Measurement Point': 'Before Dinner'}, \n",
    "               {'PatientID': 'PA006', 'Date': '9/8/2018','Blood Sugar Measure': 85 ,'Blood Sugar Measurement Point': 'Before Breakfast'}, \n",
    "               {'PatientID': 'PA007', 'Date': '9/9/2018','Blood Sugar Measure': 136 ,'Blood Sugar Measurement Point': 'Before Dinner'}, \n",
    "               {'PatientID': 'PA008', 'Date': '9/10/2018','Blood Sugar Measure': 99 ,'Blood Sugar Measurement Point': 'Fasting'}, \n",
    "               {'PatientID': 'PA009', 'Date': '9/11/2018','Blood Sugar Measure': 128 ,'Blood Sugar Measurement Point': 'Before Dinner'}, \n",
    "               {'PatientID': 'PA010', 'Date': '9/12/2018','Blood Sugar Measure': 85 ,'Blood Sugar Measurement Point': 'Fasting'}\n",
    "              ]"
   ]
  },
  {
   "cell_type": "code",
   "execution_count": null,
   "id": "12006568",
   "metadata": {},
   "outputs": [],
   "source": [
    "# patientData의 정보를 MongoDB로 저장\n",
    "collection.insert_many(patientData)"
   ]
  },
  {
   "cell_type": "code",
   "execution_count": null,
   "id": "c1a90fe4",
   "metadata": {},
   "outputs": [],
   "source": [
    "# 모든 data print\n",
    "# 데이터를 보기 위해 dtcursor 변수에 할당\n",
    "dtcursor = collection.find()\n",
    "\n",
    "# 반복문 형태로 print\n",
    "for dt in dtcursor:\n",
    "    print(dt)"
   ]
  },
  {
   "cell_type": "code",
   "execution_count": null,
   "id": "11e66a46",
   "metadata": {},
   "outputs": [],
   "source": [
    "##### Q1 #####\n",
    "# Create function/s to get the value of"
   ]
  },
  {
   "cell_type": "code",
   "execution_count": null,
   "id": "c85238ff",
   "metadata": {},
   "outputs": [],
   "source": [
    "# Average of Blood Sugar from all the patients data\n",
    "def getAvgBloodSugar():\n",
    "    dtcursor = collection.find({}, {'blood sugar measure'})\n",
    "    \n",
    "    sumOfBloodSugar = 0\n",
    "    n = 0\n",
    "    \n",
    "    for dt in dtcursor:\n",
    "        bloodsugar = dt['blood sugar measure']\n",
    "        sumOfBloodSugar += bloodsugar\n",
    "        n += 1\n",
    "        \n",
    "    return sumOfBloodSugar/n"
   ]
  },
  {
   "cell_type": "code",
   "execution_count": null,
   "id": "1054369d",
   "metadata": {},
   "outputs": [],
   "source": [
    "getAvgBloodSugar()"
   ]
  },
  {
   "cell_type": "code",
   "execution_count": null,
   "id": "d50b1ffb",
   "metadata": {},
   "outputs": [],
   "source": [
    "# Standard Deviation of Blood Sugar from all the patients data\n",
    "def getStdBloodSugar():\n",
    "    dtcursor = collection.find({}, {'blood sugar measure'})\n",
    "    \n",
    "    sumOfBloodSugar = 0\n",
    "    sumOfSquaredBloodSugar = 0\n",
    "    n = 0\n",
    "    \n",
    "    for dt in dtcursor:\n",
    "        bloodsugar = dt['blood sugar measure']\n",
    "        bloodsugar_sq = dt['blood sugar measure'] ** 2\n",
    "        sumOfBloodSugar += bloodsugar\n",
    "        sumOfSquaredBloodSugar += bloodsugar_sq\n",
    "        n += 1\n",
    "        \n",
    "    return (sumOfSquaredBloodSugar/n - ((sumOfBloodSugar/n) ** 2)) ** 0.5"
   ]
  },
  {
   "cell_type": "code",
   "execution_count": null,
   "id": "30f56222",
   "metadata": {},
   "outputs": [],
   "source": [
    "getStdBloodSugar()"
   ]
  },
  {
   "cell_type": "code",
   "execution_count": null,
   "id": "e98e2351",
   "metadata": {},
   "outputs": [],
   "source": [
    "# Percentage of Low Blood Sugar (< 70) from all the patients data\n",
    "def getPercentage70():\n",
    "    dtcursor = collection.find({}, {'blood sugar measure'})\n",
    "    \n",
    "    sumUnder70 = 0\n",
    "    n = 0\n",
    "    \n",
    "    for dt in dtcursor:\n",
    "        bloodsugar = dt['blood sugar measure']\n",
    "        n += 1\n",
    "        if bloodsugar < 70:\n",
    "            sumUnder70 += 1\n",
    "            \n",
    "    return (sumUnder70/n) * 100"
   ]
  },
  {
   "cell_type": "code",
   "execution_count": null,
   "id": "df507102",
   "metadata": {},
   "outputs": [],
   "source": [
    "getPercentage70()"
   ]
  },
  {
   "cell_type": "code",
   "execution_count": null,
   "id": "09ff1a65",
   "metadata": {},
   "outputs": [],
   "source": [
    "# Percentage of  In Range Blood Sugar (70-180) from all the patients data\n",
    "def getPercentage70180():\n",
    "    dtcursor = collection.find({}, {'blood sugar measure'})\n",
    "    \n",
    "    sum70180 = 0\n",
    "    n = 0\n",
    "    \n",
    "    for dt in dtcursor:\n",
    "        bloodsugar = dt['blood sugar measure']\n",
    "        n += 1\n",
    "        if bloodsugar >= 70 and bloodsugar <= 180:\n",
    "            sum70180 += 1\n",
    "            \n",
    "    return (sum70180/n) * 100"
   ]
  },
  {
   "cell_type": "code",
   "execution_count": null,
   "id": "992469a9",
   "metadata": {},
   "outputs": [],
   "source": [
    "getPercentage70180()"
   ]
  },
  {
   "cell_type": "code",
   "execution_count": null,
   "id": "2c21111b",
   "metadata": {},
   "outputs": [],
   "source": [
    "# Percentage of  High Blood Sugar (>150) from all the patients data\n",
    "def getPercentage150():\n",
    "    dtcursor = collection.find({}, {'blood sugar measure'})\n",
    "    \n",
    "    sumOver150 = 0\n",
    "    n = 0\n",
    "    \n",
    "    for dt in dtcursor:\n",
    "        bloodsugar = dt['blood sugar measure']\n",
    "        n += 1\n",
    "        if bloodsugar > 150:\n",
    "            sumOver150 += 1\n",
    "            \n",
    "    return (sumOver150/n) * 100"
   ]
  },
  {
   "cell_type": "code",
   "execution_count": null,
   "id": "f36efa9e",
   "metadata": {},
   "outputs": [],
   "source": [
    "getPercentage150()"
   ]
  },
  {
   "cell_type": "code",
   "execution_count": null,
   "id": "a49c572f",
   "metadata": {},
   "outputs": [],
   "source": [
    "# Percentage of Very High Blood Sugar (>250) from all the patients data\n",
    "def getPercentage250():\n",
    "    dtcursor = collection.find({}, {'blood sugar measure'})\n",
    "    \n",
    "    sumOver250 = 0\n",
    "    n = 0\n",
    "    \n",
    "    for dt in dtcursor:\n",
    "        bloodsugar = dt['blood sugar measure']\n",
    "        n += 1\n",
    "        if bloodsugar > 250:\n",
    "            sumOver250 += 1\n",
    "            \n",
    "    return (sumOver250/n) * 100"
   ]
  },
  {
   "cell_type": "code",
   "execution_count": null,
   "id": "e29d452c",
   "metadata": {},
   "outputs": [],
   "source": [
    "getPercentage250()"
   ]
  },
  {
   "cell_type": "code",
   "execution_count": null,
   "id": "cd61f600",
   "metadata": {},
   "outputs": [],
   "source": [
    "##### Q2 #####\n",
    "# Find the patient who has"
   ]
  },
  {
   "cell_type": "code",
   "execution_count": null,
   "id": "bf096793",
   "metadata": {},
   "outputs": [],
   "source": [
    "# Low Blood Sugar (< 70)\n",
    "dtcursor = collection.find({'blood sugar measure': {'$lt': 70}})\n",
    "\n",
    "for dt in dtcursor:\n",
    "    print(dt)"
   ]
  },
  {
   "cell_type": "code",
   "execution_count": null,
   "id": "e525cb52",
   "metadata": {},
   "outputs": [],
   "source": [
    "# In Range Blood Sugar (70-180)\n",
    "dtcursor = collection.find({'blood sugar measure': {'$gte': 70, '$lte': 180}})\n",
    "\n",
    "for dt in dtcursor:\n",
    "    print(dt)"
   ]
  },
  {
   "cell_type": "code",
   "execution_count": null,
   "id": "60683aca",
   "metadata": {},
   "outputs": [],
   "source": [
    "# High Blood Sugar (>150)\n",
    "dtcursor = collection.find({'blood sugar measure': {'$gt': 150}})\n",
    "\n",
    "for dt in dtcursor:\n",
    "    print(dt)"
   ]
  },
  {
   "cell_type": "code",
   "execution_count": null,
   "id": "90818b0a",
   "metadata": {},
   "outputs": [],
   "source": [
    "# Very High Blood Sugar (>250)\n",
    "dtcursor = collection.find({'blood sugar measure': {'$gt': 250}})\n",
    "\n",
    "for dt in dtcursor:\n",
    "    print(dt)"
   ]
  },
  {
   "cell_type": "code",
   "execution_count": null,
   "id": "492e64c4",
   "metadata": {},
   "outputs": [],
   "source": [
    "##### Q3 #####\n",
    "# Count how many patient who has measurement point at"
   ]
  },
  {
   "cell_type": "code",
   "execution_count": null,
   "id": "c4278d54",
   "metadata": {},
   "outputs": [],
   "source": [
    "# Before Dinner\n",
    "def cntBeforeBreakfast():\n",
    "    dtcursor = collection.find({}, {'blood sugar measurement point'})\n",
    "\n",
    "    cntbeforebreakfast = 0\n",
    "    \n",
    "    for dt in dtcursor:\n",
    "        beforebreakfast = dt['blood sugar measurement point']\n",
    "        if (beforebreakfast == 'Before Breakfast'):\n",
    "            cntbeforebreakfast += 1\n",
    "            \n",
    "    return cntbeforebreakfast"
   ]
  },
  {
   "cell_type": "code",
   "execution_count": null,
   "id": "67372841",
   "metadata": {},
   "outputs": [],
   "source": [
    "cntBeforeBreakfast()"
   ]
  },
  {
   "cell_type": "code",
   "execution_count": null,
   "id": "971e25d1",
   "metadata": {},
   "outputs": [],
   "source": [
    "# Fasting\n",
    "def cntFasting():\n",
    "    dtcursor = collection.find({}, {'blood sugar measurement point'})\n",
    "\n",
    "    cntfasting = 0\n",
    "    \n",
    "    for dt in dtcursor:\n",
    "        fasting = dt['blood sugar measurement point']\n",
    "        if (fasting == 'Fasting'):\n",
    "            cntfasting += 1\n",
    "            \n",
    "    return cntfasting"
   ]
  },
  {
   "cell_type": "code",
   "execution_count": null,
   "id": "d9759572",
   "metadata": {},
   "outputs": [],
   "source": [
    "cntFasting()"
   ]
  },
  {
   "cell_type": "code",
   "execution_count": null,
   "id": "7f8153d1",
   "metadata": {},
   "outputs": [],
   "source": [
    "# Before Dinner\n",
    "def cntBeforeDinner():\n",
    "    dtcursor = collection.find({}, {'blood sugar measurement point'})\n",
    "\n",
    "    cntbeforedinner = 0\n",
    "    \n",
    "    for dt in dtcursor:\n",
    "        beforedinner = dt['blood sugar measurement point']\n",
    "        if (beforedinner == 'Before Dinner'):\n",
    "            cntbeforedinner += 1\n",
    "            \n",
    "    return cntbeforedinner"
   ]
  },
  {
   "cell_type": "code",
   "execution_count": null,
   "id": "01c2104a",
   "metadata": {},
   "outputs": [],
   "source": [
    "cntBeforeDinner()"
   ]
  },
  {
   "cell_type": "code",
   "execution_count": null,
   "id": "5540cf37",
   "metadata": {},
   "outputs": [],
   "source": [
    "# After Lunch\n",
    "def cntAfterLunch():\n",
    "    dtcursor = collection.find({}, {'blood sugar measurement point'})\n",
    "\n",
    "    cntafterlunch = 0\n",
    "    \n",
    "    for dt in dtcursor:\n",
    "        afterlunch = dt['blood sugar measurement point']\n",
    "        if (afterlunch == 'After Lunch'):\n",
    "            cntafterlunch += 1\n",
    "            \n",
    "    return cntafterlunch"
   ]
  },
  {
   "cell_type": "code",
   "execution_count": null,
   "id": "a7a541d0",
   "metadata": {},
   "outputs": [],
   "source": [
    "cntAfterLunch()"
   ]
  }
 ],
 "metadata": {
  "kernelspec": {
   "display_name": "Python 3",
   "language": "python",
   "name": "python3"
  },
  "language_info": {
   "codemirror_mode": {
    "name": "ipython",
    "version": 3
   },
   "file_extension": ".py",
   "mimetype": "text/x-python",
   "name": "python",
   "nbconvert_exporter": "python",
   "pygments_lexer": "ipython3",
   "version": "3.8.8"
  }
 },
 "nbformat": 4,
 "nbformat_minor": 5
}
