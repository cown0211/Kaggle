{
  "nbformat": 4,
  "nbformat_minor": 0,
  "metadata": {
    "colab": {
      "name": "중고차 가격 예측 경진대회.ipynb",
      "provenance": [],
      "collapsed_sections": [],
      "authorship_tag": "ABX9TyP7jwYPxoJX+1RbFENmd16b",
      "include_colab_link": true
    },
    "kernelspec": {
      "name": "python3",
      "display_name": "Python 3"
    },
    "language_info": {
      "name": "python"
    }
  },
  "cells": [
    {
      "cell_type": "markdown",
      "metadata": {
        "id": "view-in-github",
        "colab_type": "text"
      },
      "source": [
        "<a href=\"https://colab.research.google.com/github/cown0211/Kaggle-DACON/blob/main/%EC%A4%91%EA%B3%A0%EC%B0%A8_%EA%B0%80%EA%B2%A9_%EC%98%88%EC%B8%A1_%EA%B2%BD%EC%A7%84%EB%8C%80%ED%9A%8C.ipynb\" target=\"_parent\"><img src=\"https://colab.research.google.com/assets/colab-badge.svg\" alt=\"Open In Colab\"/></a>"
      ]
    },
    {
      "cell_type": "code",
      "execution_count": null,
      "metadata": {
        "colab": {
          "base_uri": "https://localhost:8080/"
        },
        "id": "0rLggfn0EusU",
        "outputId": "4cb8bc47-6528-405a-9bbb-c7fb06a570ce"
      },
      "outputs": [
        {
          "output_type": "stream",
          "name": "stdout",
          "text": [
            "Drive already mounted at /content/drive; to attempt to forcibly remount, call drive.mount(\"/content/drive\", force_remount=True).\n"
          ]
        }
      ],
      "source": [
        "from google.colab import drive\n",
        "drive.mount('/content/drive')"
      ]
    },
    {
      "cell_type": "code",
      "source": [
        "# 드라이브로 공유된 원본 데이터 다운\n",
        "!pip install gdown\n",
        "!gdown --id 1nXaRATO88R_64tPbsUuOMOMWrcA5w-YH --output train.csv\n",
        "!gdown --id 1FKa80by_pQ4a5iMEdGNJ4VuOqSF-z807 --output test.csv\n",
        "!gdown --id 1ZmiQX35fkO90yQDxK5HH5xp7tcz1NPHd --output sub.csv\n",
        "\n",
        "# 경로 옮기기\n",
        "!mkdir /content/drive/MyDrive/Dacon/중고차가격예측경진대회/data\n",
        "!mv /content/train.csv /content/drive/MyDrive/Dacon/중고차가격예측경진대회/data\n",
        "!mv /content/test.csv /content/drive/MyDrive/Dacon/중고차가격예측경진대회/data\n",
        "!mv /content/sub.csv /content/drive/MyDrive/Dacon/중고차가격예측경진대회/data"
      ],
      "metadata": {
        "colab": {
          "base_uri": "https://localhost:8080/"
        },
        "id": "aJ52NSeKFoiL",
        "outputId": "576f7831-8960-4220-8819-8f4e8b45255a"
      },
      "execution_count": null,
      "outputs": [
        {
          "output_type": "stream",
          "name": "stdout",
          "text": [
            "Looking in indexes: https://pypi.org/simple, https://us-python.pkg.dev/colab-wheels/public/simple/\n",
            "Requirement already satisfied: gdown in /usr/local/lib/python3.7/dist-packages (4.4.0)\n",
            "Requirement already satisfied: filelock in /usr/local/lib/python3.7/dist-packages (from gdown) (3.7.0)\n",
            "Requirement already satisfied: tqdm in /usr/local/lib/python3.7/dist-packages (from gdown) (4.64.0)\n",
            "Requirement already satisfied: beautifulsoup4 in /usr/local/lib/python3.7/dist-packages (from gdown) (4.6.3)\n",
            "Requirement already satisfied: requests[socks] in /usr/local/lib/python3.7/dist-packages (from gdown) (2.23.0)\n",
            "Requirement already satisfied: six in /usr/local/lib/python3.7/dist-packages (from gdown) (1.15.0)\n",
            "Requirement already satisfied: chardet<4,>=3.0.2 in /usr/local/lib/python3.7/dist-packages (from requests[socks]->gdown) (3.0.4)\n",
            "Requirement already satisfied: urllib3!=1.25.0,!=1.25.1,<1.26,>=1.21.1 in /usr/local/lib/python3.7/dist-packages (from requests[socks]->gdown) (1.24.3)\n",
            "Requirement already satisfied: certifi>=2017.4.17 in /usr/local/lib/python3.7/dist-packages (from requests[socks]->gdown) (2022.5.18.1)\n",
            "Requirement already satisfied: idna<3,>=2.5 in /usr/local/lib/python3.7/dist-packages (from requests[socks]->gdown) (2.10)\n",
            "Requirement already satisfied: PySocks!=1.5.7,>=1.5.6 in /usr/local/lib/python3.7/dist-packages (from requests[socks]->gdown) (1.7.1)\n",
            "/usr/local/lib/python3.7/dist-packages/gdown/cli.py:131: FutureWarning: Option `--id` was deprecated in version 4.3.1 and will be removed in 5.0. You don't need to pass it anymore to use a file ID.\n",
            "  category=FutureWarning,\n",
            "Downloading...\n",
            "From: https://drive.google.com/uc?id=1nXaRATO88R_64tPbsUuOMOMWrcA5w-YH\n",
            "To: /content/train.csv\n",
            "100% 96.8k/96.8k [00:00<00:00, 82.2MB/s]\n",
            "/usr/local/lib/python3.7/dist-packages/gdown/cli.py:131: FutureWarning: Option `--id` was deprecated in version 4.3.1 and will be removed in 5.0. You don't need to pass it anymore to use a file ID.\n",
            "  category=FutureWarning,\n",
            "Downloading...\n",
            "From: https://drive.google.com/uc?id=1FKa80by_pQ4a5iMEdGNJ4VuOqSF-z807\n",
            "To: /content/test.csv\n",
            "100% 37.9k/37.9k [00:00<00:00, 49.9MB/s]\n",
            "/usr/local/lib/python3.7/dist-packages/gdown/cli.py:131: FutureWarning: Option `--id` was deprecated in version 4.3.1 and will be removed in 5.0. You don't need to pass it anymore to use a file ID.\n",
            "  category=FutureWarning,\n",
            "Downloading...\n",
            "From: https://drive.google.com/uc?id=1ZmiQX35fkO90yQDxK5HH5xp7tcz1NPHd\n",
            "To: /content/sub.csv\n",
            "100% 2.52k/2.52k [00:00<00:00, 4.32MB/s]\n",
            "mkdir: cannot create directory ‘/content/drive/MyDrive/Dacon/중고차가격예측경진대회/data’: File exists\n"
          ]
        }
      ]
    },
    {
      "cell_type": "code",
      "source": [
        "import pandas as pd\n",
        "import numpy as np\n",
        "\n",
        "from matplotlib import pyplot as plt\n",
        "import seaborn as sns"
      ],
      "metadata": {
        "id": "tZVsFLZTGuyR"
      },
      "execution_count": null,
      "outputs": []
    },
    {
      "cell_type": "code",
      "source": [
        "# 데이터 읽기\n",
        "path = \"/content/drive/My Drive/Dacon/중고차가격예측경진대회/data/\"\n",
        "\n",
        "train = pd.read_csv(path + \"train.csv\")\n",
        "test = pd.read_csv(path + \"test.csv\")\n",
        "sub = pd.read_csv(path + \"sub.csv\")"
      ],
      "metadata": {
        "id": "GzEThsA_Jtnf"
      },
      "execution_count": null,
      "outputs": []
    },
    {
      "cell_type": "code",
      "source": [
        "# 결측치 및 데이터 타입 확인\n",
        "\n",
        "train.info()"
      ],
      "metadata": {
        "colab": {
          "base_uri": "https://localhost:8080/"
        },
        "id": "xMtgewmFHZoB",
        "outputId": "169bebe8-e407-434b-f6f5-1ea98b4ef97f"
      },
      "execution_count": null,
      "outputs": [
        {
          "output_type": "stream",
          "name": "stdout",
          "text": [
            "<class 'pandas.core.frame.DataFrame'>\n",
            "RangeIndex: 1015 entries, 0 to 1014\n",
            "Data columns (total 11 columns):\n",
            " #   Column        Non-Null Count  Dtype \n",
            "---  ------        --------------  ----- \n",
            " 0   id            1015 non-null   int64 \n",
            " 1   title         1015 non-null   object\n",
            " 2   odometer      1015 non-null   int64 \n",
            " 3   location      1015 non-null   object\n",
            " 4   isimported    1015 non-null   object\n",
            " 5   engine        1015 non-null   object\n",
            " 6   transmission  1015 non-null   object\n",
            " 7   fuel          1015 non-null   object\n",
            " 8   paint         1015 non-null   object\n",
            " 9   year          1015 non-null   int64 \n",
            " 10  target        1015 non-null   int64 \n",
            "dtypes: int64(4), object(7)\n",
            "memory usage: 87.4+ KB\n"
          ]
        }
      ]
    },
    {
      "cell_type": "markdown",
      "source": [
        "  \n",
        "11개 열 중에 0번 열은 id이므로 삭제  \n",
        "target이 가격\n"
      ],
      "metadata": {
        "id": "LDLpnTgoPCAY"
      }
    },
    {
      "cell_type": "code",
      "source": [
        "train.head()"
      ],
      "metadata": {
        "colab": {
          "base_uri": "https://localhost:8080/",
          "height": 206
        },
        "id": "VhV9DOEjHCWM",
        "outputId": "97dbb657-0663-4345-8036-70d14fda3839"
      },
      "execution_count": null,
      "outputs": [
        {
          "output_type": "execute_result",
          "data": {
            "text/plain": [
              "   id                          title  odometer location    isimported  \\\n",
              "0   0                   Toyota RAV 4     18277   Lagos   Foreign Used   \n",
              "1   1            Toyota Land Cruiser        10    Lagos          New    \n",
              "2   2  Land Rover Range Rover Evoque     83091    Lagos  Foreign Used   \n",
              "3   3                   Lexus ES 350     91524    Lagos  Foreign Used   \n",
              "4   4                   Toyota Venza     94177    Lagos  Foreign Used   \n",
              "\n",
              "           engine transmission    fuel  paint  year    target  \n",
              "0  4-cylinder(I4)    automatic  petrol    Red  2016  13665000  \n",
              "1  4-cylinder(I4)    automatic  petrol  Black  2019  33015000  \n",
              "2  6-cylinder(V6)    automatic  petrol    Red  2012   9915000  \n",
              "3  4-cylinder(I4)    automatic  petrol   Gray  2007   3815000  \n",
              "4  6-cylinder(V6)    automatic  petrol    Red  2010   7385000  "
            ],
            "text/html": [
              "\n",
              "  <div id=\"df-e58a54ac-a6b0-4f88-b746-ed61fefaa613\">\n",
              "    <div class=\"colab-df-container\">\n",
              "      <div>\n",
              "<style scoped>\n",
              "    .dataframe tbody tr th:only-of-type {\n",
              "        vertical-align: middle;\n",
              "    }\n",
              "\n",
              "    .dataframe tbody tr th {\n",
              "        vertical-align: top;\n",
              "    }\n",
              "\n",
              "    .dataframe thead th {\n",
              "        text-align: right;\n",
              "    }\n",
              "</style>\n",
              "<table border=\"1\" class=\"dataframe\">\n",
              "  <thead>\n",
              "    <tr style=\"text-align: right;\">\n",
              "      <th></th>\n",
              "      <th>id</th>\n",
              "      <th>title</th>\n",
              "      <th>odometer</th>\n",
              "      <th>location</th>\n",
              "      <th>isimported</th>\n",
              "      <th>engine</th>\n",
              "      <th>transmission</th>\n",
              "      <th>fuel</th>\n",
              "      <th>paint</th>\n",
              "      <th>year</th>\n",
              "      <th>target</th>\n",
              "    </tr>\n",
              "  </thead>\n",
              "  <tbody>\n",
              "    <tr>\n",
              "      <th>0</th>\n",
              "      <td>0</td>\n",
              "      <td>Toyota RAV 4</td>\n",
              "      <td>18277</td>\n",
              "      <td>Lagos</td>\n",
              "      <td>Foreign Used</td>\n",
              "      <td>4-cylinder(I4)</td>\n",
              "      <td>automatic</td>\n",
              "      <td>petrol</td>\n",
              "      <td>Red</td>\n",
              "      <td>2016</td>\n",
              "      <td>13665000</td>\n",
              "    </tr>\n",
              "    <tr>\n",
              "      <th>1</th>\n",
              "      <td>1</td>\n",
              "      <td>Toyota Land Cruiser</td>\n",
              "      <td>10</td>\n",
              "      <td>Lagos</td>\n",
              "      <td>New</td>\n",
              "      <td>4-cylinder(I4)</td>\n",
              "      <td>automatic</td>\n",
              "      <td>petrol</td>\n",
              "      <td>Black</td>\n",
              "      <td>2019</td>\n",
              "      <td>33015000</td>\n",
              "    </tr>\n",
              "    <tr>\n",
              "      <th>2</th>\n",
              "      <td>2</td>\n",
              "      <td>Land Rover Range Rover Evoque</td>\n",
              "      <td>83091</td>\n",
              "      <td>Lagos</td>\n",
              "      <td>Foreign Used</td>\n",
              "      <td>6-cylinder(V6)</td>\n",
              "      <td>automatic</td>\n",
              "      <td>petrol</td>\n",
              "      <td>Red</td>\n",
              "      <td>2012</td>\n",
              "      <td>9915000</td>\n",
              "    </tr>\n",
              "    <tr>\n",
              "      <th>3</th>\n",
              "      <td>3</td>\n",
              "      <td>Lexus ES 350</td>\n",
              "      <td>91524</td>\n",
              "      <td>Lagos</td>\n",
              "      <td>Foreign Used</td>\n",
              "      <td>4-cylinder(I4)</td>\n",
              "      <td>automatic</td>\n",
              "      <td>petrol</td>\n",
              "      <td>Gray</td>\n",
              "      <td>2007</td>\n",
              "      <td>3815000</td>\n",
              "    </tr>\n",
              "    <tr>\n",
              "      <th>4</th>\n",
              "      <td>4</td>\n",
              "      <td>Toyota Venza</td>\n",
              "      <td>94177</td>\n",
              "      <td>Lagos</td>\n",
              "      <td>Foreign Used</td>\n",
              "      <td>6-cylinder(V6)</td>\n",
              "      <td>automatic</td>\n",
              "      <td>petrol</td>\n",
              "      <td>Red</td>\n",
              "      <td>2010</td>\n",
              "      <td>7385000</td>\n",
              "    </tr>\n",
              "  </tbody>\n",
              "</table>\n",
              "</div>\n",
              "      <button class=\"colab-df-convert\" onclick=\"convertToInteractive('df-e58a54ac-a6b0-4f88-b746-ed61fefaa613')\"\n",
              "              title=\"Convert this dataframe to an interactive table.\"\n",
              "              style=\"display:none;\">\n",
              "        \n",
              "  <svg xmlns=\"http://www.w3.org/2000/svg\" height=\"24px\"viewBox=\"0 0 24 24\"\n",
              "       width=\"24px\">\n",
              "    <path d=\"M0 0h24v24H0V0z\" fill=\"none\"/>\n",
              "    <path d=\"M18.56 5.44l.94 2.06.94-2.06 2.06-.94-2.06-.94-.94-2.06-.94 2.06-2.06.94zm-11 1L8.5 8.5l.94-2.06 2.06-.94-2.06-.94L8.5 2.5l-.94 2.06-2.06.94zm10 10l.94 2.06.94-2.06 2.06-.94-2.06-.94-.94-2.06-.94 2.06-2.06.94z\"/><path d=\"M17.41 7.96l-1.37-1.37c-.4-.4-.92-.59-1.43-.59-.52 0-1.04.2-1.43.59L10.3 9.45l-7.72 7.72c-.78.78-.78 2.05 0 2.83L4 21.41c.39.39.9.59 1.41.59.51 0 1.02-.2 1.41-.59l7.78-7.78 2.81-2.81c.8-.78.8-2.07 0-2.86zM5.41 20L4 18.59l7.72-7.72 1.47 1.35L5.41 20z\"/>\n",
              "  </svg>\n",
              "      </button>\n",
              "      \n",
              "  <style>\n",
              "    .colab-df-container {\n",
              "      display:flex;\n",
              "      flex-wrap:wrap;\n",
              "      gap: 12px;\n",
              "    }\n",
              "\n",
              "    .colab-df-convert {\n",
              "      background-color: #E8F0FE;\n",
              "      border: none;\n",
              "      border-radius: 50%;\n",
              "      cursor: pointer;\n",
              "      display: none;\n",
              "      fill: #1967D2;\n",
              "      height: 32px;\n",
              "      padding: 0 0 0 0;\n",
              "      width: 32px;\n",
              "    }\n",
              "\n",
              "    .colab-df-convert:hover {\n",
              "      background-color: #E2EBFA;\n",
              "      box-shadow: 0px 1px 2px rgba(60, 64, 67, 0.3), 0px 1px 3px 1px rgba(60, 64, 67, 0.15);\n",
              "      fill: #174EA6;\n",
              "    }\n",
              "\n",
              "    [theme=dark] .colab-df-convert {\n",
              "      background-color: #3B4455;\n",
              "      fill: #D2E3FC;\n",
              "    }\n",
              "\n",
              "    [theme=dark] .colab-df-convert:hover {\n",
              "      background-color: #434B5C;\n",
              "      box-shadow: 0px 1px 3px 1px rgba(0, 0, 0, 0.15);\n",
              "      filter: drop-shadow(0px 1px 2px rgba(0, 0, 0, 0.3));\n",
              "      fill: #FFFFFF;\n",
              "    }\n",
              "  </style>\n",
              "\n",
              "      <script>\n",
              "        const buttonEl =\n",
              "          document.querySelector('#df-e58a54ac-a6b0-4f88-b746-ed61fefaa613 button.colab-df-convert');\n",
              "        buttonEl.style.display =\n",
              "          google.colab.kernel.accessAllowed ? 'block' : 'none';\n",
              "\n",
              "        async function convertToInteractive(key) {\n",
              "          const element = document.querySelector('#df-e58a54ac-a6b0-4f88-b746-ed61fefaa613');\n",
              "          const dataTable =\n",
              "            await google.colab.kernel.invokeFunction('convertToInteractive',\n",
              "                                                     [key], {});\n",
              "          if (!dataTable) return;\n",
              "\n",
              "          const docLinkHtml = 'Like what you see? Visit the ' +\n",
              "            '<a target=\"_blank\" href=https://colab.research.google.com/notebooks/data_table.ipynb>data table notebook</a>'\n",
              "            + ' to learn more about interactive tables.';\n",
              "          element.innerHTML = '';\n",
              "          dataTable['output_type'] = 'display_data';\n",
              "          await google.colab.output.renderOutput(dataTable, element);\n",
              "          const docLink = document.createElement('div');\n",
              "          docLink.innerHTML = docLinkHtml;\n",
              "          element.appendChild(docLink);\n",
              "        }\n",
              "      </script>\n",
              "    </div>\n",
              "  </div>\n",
              "  "
            ]
          },
          "metadata": {},
          "execution_count": 5
        }
      ]
    },
    {
      "cell_type": "code",
      "source": [
        "# id 겹치는 경우 없음 -> 열삭제\n",
        "train[\"id\"].value_counts()\n",
        "\n",
        "train.drop(\"id\", axis = 1, inplace = True)\n",
        "\n",
        "test.drop(\"id\", axis = 1, inplace = True)"
      ],
      "metadata": {
        "id": "nFHrGMHYByHg"
      },
      "execution_count": null,
      "outputs": []
    },
    {
      "cell_type": "code",
      "source": [
        "train[\"title\"].value_counts()\n",
        "# title 변수의 경우 \"사명 차종\"의 형태로 저장돼있음 -> 브랜드 변수 생성"
      ],
      "metadata": {
        "colab": {
          "base_uri": "https://localhost:8080/"
        },
        "id": "BDpNMOwVqSbW",
        "outputId": "6d4199b2-08c3-4a10-df95-e337d3e33ecc"
      },
      "execution_count": null,
      "outputs": [
        {
          "output_type": "execute_result",
          "data": {
            "text/plain": [
              "Toyota Camry             129\n",
              "Toyota Corolla           108\n",
              "Toyota Highlander         50\n",
              "Toyota Sienna             49\n",
              "Toyota RAV 4              40\n",
              "                        ... \n",
              "Scania P94 FLATBED         1\n",
              "Mercedes-Benz GLA 250      1\n",
              "Acura ZDX                  1\n",
              "Iveco TRUCK                1\n",
              "DAF CF                     1\n",
              "Name: title, Length: 203, dtype: int64"
            ]
          },
          "metadata": {},
          "execution_count": 89
        }
      ]
    },
    {
      "cell_type": "code",
      "source": [
        "train[\"brand\"] = train[\"title\"].apply(lambda x: x.split()[0])\n",
        "test[\"brand\"] = test[\"title\"].apply(lambda x: x.split()[0])"
      ],
      "metadata": {
        "id": "hzvV06JNvqAx"
      },
      "execution_count": null,
      "outputs": []
    },
    {
      "cell_type": "code",
      "source": [
        "plt.boxplot(train[\"odometer\"])\n",
        "# 주행거리"
      ],
      "metadata": {
        "colab": {
          "base_uri": "https://localhost:8080/",
          "height": 425
        },
        "id": "Qrv3OLagZhV7",
        "outputId": "eb367007-5fd1-4b13-e0aa-0809e0acd7d8"
      },
      "execution_count": null,
      "outputs": [
        {
          "output_type": "execute_result",
          "data": {
            "text/plain": [
              "{'boxes': [<matplotlib.lines.Line2D at 0x7fd854fbb850>],\n",
              " 'caps': [<matplotlib.lines.Line2D at 0x7fd854fa3910>,\n",
              "  <matplotlib.lines.Line2D at 0x7fd854fa3e50>],\n",
              " 'fliers': [<matplotlib.lines.Line2D at 0x7fd8551023d0>],\n",
              " 'means': [],\n",
              " 'medians': [<matplotlib.lines.Line2D at 0x7fd854fb8410>],\n",
              " 'whiskers': [<matplotlib.lines.Line2D at 0x7fd854fbbe50>,\n",
              "  <matplotlib.lines.Line2D at 0x7fd854fa33d0>]}"
            ]
          },
          "metadata": {},
          "execution_count": 90
        },
        {
          "output_type": "display_data",
          "data": {
            "text/plain": [
              "<Figure size 432x288 with 1 Axes>"
            ],
            "image/png": "[encoded data removed]"
          },
          "metadata": {
            "needs_background": "light"
          }
        }
      ]
    },
    {
      "cell_type": "code",
      "source": [
        "sns.distplot(train[\"odometer\"], kde=True, rug=True)"
      ],
      "metadata": {
        "colab": {
          "base_uri": "https://localhost:8080/",
          "height": 403
        },
        "id": "O7l6puKepKMf",
        "outputId": "9c7fdf90-5e0f-4aba-b5aa-cadef8edac56"
      },
      "execution_count": null,
      "outputs": [
        {
          "output_type": "stream",
          "name": "stderr",
          "text": [
            "/usr/local/lib/python3.7/dist-packages/seaborn/distributions.py:2619: FutureWarning: `distplot` is a deprecated function and will be removed in a future version. Please adapt your code to use either `displot` (a figure-level function with similar flexibility) or `histplot` (an axes-level function for histograms).\n",
            "  warnings.warn(msg, FutureWarning)\n",
            "/usr/local/lib/python3.7/dist-packages/seaborn/distributions.py:2103: FutureWarning: The `axis` variable is no longer used and will be removed. Instead, assign variables directly to `x` or `y`.\n",
            "  warnings.warn(msg, FutureWarning)\n"
          ]
        },
        {
          "output_type": "execute_result",
          "data": {
            "text/plain": [
              "<matplotlib.axes._subplots.AxesSubplot at 0x7fd853528750>"
            ]
          },
          "metadata": {},
          "execution_count": 130
        },
        {
          "output_type": "display_data",
          "data": {
            "text/plain": [
              "<Figure size 432x288 with 1 Axes>"
            ],
            "image/png": "[encoded data removed]"
          },
          "metadata": {
            "needs_background": "light"
          }
        }
      ]
    },
    {
      "cell_type": "code",
      "source": [
        "train.iloc[:, [1,9]].sort_values(by=[\"odometer\"])"
      ],
      "metadata": {
        "colab": {
          "base_uri": "https://localhost:8080/",
          "height": 424
        },
        "id": "FEtdKovsqrxo",
        "outputId": "3868a7e2-70be-4e9a-859d-614d87d9e968"
      },
      "execution_count": null,
      "outputs": [
        {
          "output_type": "execute_result",
          "data": {
            "text/plain": [
              "      odometer    target\n",
              "1014         0  10015000\n",
              "392          0   9215000\n",
              "429          0  12015000\n",
              "372          0   1715000\n",
              "483          0   1855000\n",
              "...        ...       ...\n",
              "46      745932   5515000\n",
              "70      768456   8015000\n",
              "610     798469  12015000\n",
              "1009    809456  26015000\n",
              "190     987322    765000\n",
              "\n",
              "[1013 rows x 2 columns]"
            ],
            "text/html": [
              "\n",
              "  <div id=\"df-a1872051-12e2-4732-9271-5be0989fcabf\">\n",
              "    <div class=\"colab-df-container\">\n",
              "      <div>\n",
              "<style scoped>\n",
              "    .dataframe tbody tr th:only-of-type {\n",
              "        vertical-align: middle;\n",
              "    }\n",
              "\n",
              "    .dataframe tbody tr th {\n",
              "        vertical-align: top;\n",
              "    }\n",
              "\n",
              "    .dataframe thead th {\n",
              "        text-align: right;\n",
              "    }\n",
              "</style>\n",
              "<table border=\"1\" class=\"dataframe\">\n",
              "  <thead>\n",
              "    <tr style=\"text-align: right;\">\n",
              "      <th></th>\n",
              "      <th>odometer</th>\n",
              "      <th>target</th>\n",
              "    </tr>\n",
              "  </thead>\n",
              "  <tbody>\n",
              "    <tr>\n",
              "      <th>1014</th>\n",
              "      <td>0</td>\n",
              "      <td>10015000</td>\n",
              "    </tr>\n",
              "    <tr>\n",
              "      <th>392</th>\n",
              "      <td>0</td>\n",
              "      <td>9215000</td>\n",
              "    </tr>\n",
              "    <tr>\n",
              "      <th>429</th>\n",
              "      <td>0</td>\n",
              "      <td>12015000</td>\n",
              "    </tr>\n",
              "    <tr>\n",
              "      <th>372</th>\n",
              "      <td>0</td>\n",
              "      <td>1715000</td>\n",
              "    </tr>\n",
              "    <tr>\n",
              "      <th>483</th>\n",
              "      <td>0</td>\n",
              "      <td>1855000</td>\n",
              "    </tr>\n",
              "    <tr>\n",
              "      <th>...</th>\n",
              "      <td>...</td>\n",
              "      <td>...</td>\n",
              "    </tr>\n",
              "    <tr>\n",
              "      <th>46</th>\n",
              "      <td>745932</td>\n",
              "      <td>5515000</td>\n",
              "    </tr>\n",
              "    <tr>\n",
              "      <th>70</th>\n",
              "      <td>768456</td>\n",
              "      <td>8015000</td>\n",
              "    </tr>\n",
              "    <tr>\n",
              "      <th>610</th>\n",
              "      <td>798469</td>\n",
              "      <td>12015000</td>\n",
              "    </tr>\n",
              "    <tr>\n",
              "      <th>1009</th>\n",
              "      <td>809456</td>\n",
              "      <td>26015000</td>\n",
              "    </tr>\n",
              "    <tr>\n",
              "      <th>190</th>\n",
              "      <td>987322</td>\n",
              "      <td>765000</td>\n",
              "    </tr>\n",
              "  </tbody>\n",
              "</table>\n",
              "<p>1013 rows × 2 columns</p>\n",
              "</div>\n",
              "      <button class=\"colab-df-convert\" onclick=\"convertToInteractive('df-a1872051-12e2-4732-9271-5be0989fcabf')\"\n",
              "              title=\"Convert this dataframe to an interactive table.\"\n",
              "              style=\"display:none;\">\n",
              "        \n",
              "  <svg xmlns=\"http://www.w3.org/2000/svg\" height=\"24px\"viewBox=\"0 0 24 24\"\n",
              "       width=\"24px\">\n",
              "    <path d=\"M0 0h24v24H0V0z\" fill=\"none\"/>\n",
              "    <path d=\"M18.56 5.44l.94 2.06.94-2.06 2.06-.94-2.06-.94-.94-2.06-.94 2.06-2.06.94zm-11 1L8.5 8.5l.94-2.06 2.06-.94-2.06-.94L8.5 2.5l-.94 2.06-2.06.94zm10 10l.94 2.06.94-2.06 2.06-.94-2.06-.94-.94-2.06-.94 2.06-2.06.94z\"/><path d=\"M17.41 7.96l-1.37-1.37c-.4-.4-.92-.59-1.43-.59-.52 0-1.04.2-1.43.59L10.3 9.45l-7.72 7.72c-.78.78-.78 2.05 0 2.83L4 21.41c.39.39.9.59 1.41.59.51 0 1.02-.2 1.41-.59l7.78-7.78 2.81-2.81c.8-.78.8-2.07 0-2.86zM5.41 20L4 18.59l7.72-7.72 1.47 1.35L5.41 20z\"/>\n",
              "  </svg>\n",
              "      </button>\n",
              "      \n",
              "  <style>\n",
              "    .colab-df-container {\n",
              "      display:flex;\n",
              "      flex-wrap:wrap;\n",
              "      gap: 12px;\n",
              "    }\n",
              "\n",
              "    .colab-df-convert {\n",
              "      background-color: #E8F0FE;\n",
              "      border: none;\n",
              "      border-radius: 50%;\n",
              "      cursor: pointer;\n",
              "      display: none;\n",
              "      fill: #1967D2;\n",
              "      height: 32px;\n",
              "      padding: 0 0 0 0;\n",
              "      width: 32px;\n",
              "    }\n",
              "\n",
              "    .colab-df-convert:hover {\n",
              "      background-color: #E2EBFA;\n",
              "      box-shadow: 0px 1px 2px rgba(60, 64, 67, 0.3), 0px 1px 3px 1px rgba(60, 64, 67, 0.15);\n",
              "      fill: #174EA6;\n",
              "    }\n",
              "\n",
              "    [theme=dark] .colab-df-convert {\n",
              "      background-color: #3B4455;\n",
              "      fill: #D2E3FC;\n",
              "    }\n",
              "\n",
              "    [theme=dark] .colab-df-convert:hover {\n",
              "      background-color: #434B5C;\n",
              "      box-shadow: 0px 1px 3px 1px rgba(0, 0, 0, 0.15);\n",
              "      filter: drop-shadow(0px 1px 2px rgba(0, 0, 0, 0.3));\n",
              "      fill: #FFFFFF;\n",
              "    }\n",
              "  </style>\n",
              "\n",
              "      <script>\n",
              "        const buttonEl =\n",
              "          document.querySelector('#df-a1872051-12e2-4732-9271-5be0989fcabf button.colab-df-convert');\n",
              "        buttonEl.style.display =\n",
              "          google.colab.kernel.accessAllowed ? 'block' : 'none';\n",
              "\n",
              "        async function convertToInteractive(key) {\n",
              "          const element = document.querySelector('#df-a1872051-12e2-4732-9271-5be0989fcabf');\n",
              "          const dataTable =\n",
              "            await google.colab.kernel.invokeFunction('convertToInteractive',\n",
              "                                                     [key], {});\n",
              "          if (!dataTable) return;\n",
              "\n",
              "          const docLinkHtml = 'Like what you see? Visit the ' +\n",
              "            '<a target=\"_blank\" href=https://colab.research.google.com/notebooks/data_table.ipynb>data table notebook</a>'\n",
              "            + ' to learn more about interactive tables.';\n",
              "          element.innerHTML = '';\n",
              "          dataTable['output_type'] = 'display_data';\n",
              "          await google.colab.output.renderOutput(dataTable, element);\n",
              "          const docLink = document.createElement('div');\n",
              "          docLink.innerHTML = docLinkHtml;\n",
              "          element.appendChild(docLink);\n",
              "        }\n",
              "      </script>\n",
              "    </div>\n",
              "  </div>\n",
              "  "
            ]
          },
          "metadata": {},
          "execution_count": 156
        }
      ]
    },
    {
      "cell_type": "code",
      "source": [
        "train[\"odometer\"].describe()"
      ],
      "metadata": {
        "colab": {
          "base_uri": "https://localhost:8080/"
        },
        "id": "ojjKRVXdsDAi",
        "outputId": "9c771e7c-12e1-4c83-8f84-76b954add672"
      },
      "execution_count": null,
      "outputs": [
        {
          "output_type": "execute_result",
          "data": {
            "text/plain": [
              "count      1013.000000\n",
              "mean     116171.015795\n",
              "std      104147.052690\n",
              "min           0.000000\n",
              "25%       55775.000000\n",
              "50%       94803.000000\n",
              "75%      152878.000000\n",
              "max      987322.000000\n",
              "Name: odometer, dtype: float64"
            ]
          },
          "metadata": {},
          "execution_count": 160
        }
      ]
    },
    {
      "cell_type": "code",
      "source": [
        "print(\"max:\", train[\"odometer\"].max(), \"\\n\",\n",
        "      \"min:\", train[\"odometer\"].min(), \"\\n\",\n",
        "      \"mean:\", train[\"odometer\"].mean(), \"\\n\",\n",
        "      \"median:\", train[\"odometer\"].median())"
      ],
      "metadata": {
        "id": "Ro4V1tM0R-ql",
        "colab": {
          "base_uri": "https://localhost:8080/"
        },
        "outputId": "e1810c81-55fb-4ad2-984a-bbf21979d27b"
      },
      "execution_count": null,
      "outputs": [
        {
          "output_type": "stream",
          "name": "stdout",
          "text": [
            "max: 987322 \n",
            " min: 0 \n",
            " mean: 116842.12118226601 \n",
            " median: 94972.0\n"
          ]
        }
      ]
    },
    {
      "cell_type": "code",
      "source": [
        "train[\"location\"].value_counts()"
      ],
      "metadata": {
        "colab": {
          "base_uri": "https://localhost:8080/"
        },
        "id": "LNbjeLhntmkZ",
        "outputId": "a1e09ef8-f5e0-4a1e-a355-ac596bddd252"
      },
      "execution_count": null,
      "outputs": [
        {
          "output_type": "execute_result",
          "data": {
            "text/plain": [
              "Lagos          792\n",
              "Abuja          146\n",
              "Ogun            26\n",
              "Lagos           23\n",
              "Lagos State     16\n",
              "other            4\n",
              "FCT              2\n",
              "Accra            1\n",
              "Abuja            1\n",
              "Abia State       1\n",
              "Adamawa          1\n",
              "Abia             1\n",
              "Ogun State       1\n",
              "Name: location, dtype: int64"
            ]
          },
          "metadata": {},
          "execution_count": 91
        }
      ]
    },
    {
      "cell_type": "code",
      "source": [
        "test[\"location\"].value_counts()"
      ],
      "metadata": {
        "colab": {
          "base_uri": "https://localhost:8080/"
        },
        "id": "a7JeySvfxVvC",
        "outputId": "9966af63-15bf-4072-db41-d88f02ec7e31"
      },
      "execution_count": null,
      "outputs": [
        {
          "output_type": "execute_result",
          "data": {
            "text/plain": [
              "Lagos    355\n",
              "Abuja     69\n",
              "Ogun      10\n",
              "other      2\n",
              "Name: location, dtype: int64"
            ]
          },
          "metadata": {},
          "execution_count": 8
        }
      ]
    },
    {
      "cell_type": "code",
      "source": [
        "train[\"location\"].replace({\"Lagos \": \"Lagos\",\n",
        "                           \"Lagos State\": \"Lagos\",\n",
        "                           \"FCT\": \"Abuja\",\n",
        "                           \"Abuja \": \"Abuja\",\n",
        "                           \"Ogun State\": \"Ogun\",\n",
        "                           \"Abia\": \"other\",\n",
        "                           \"Abia State\": \"other\",\n",
        "                           \"Accra\": \"other\",\n",
        "                           \"Adamawa \": \"other\"}, inplace = True)\n",
        "\n",
        "test[\"location\"].replace({\"Lagos State\": \"Lagos\",\n",
        "                          \"Lagos \": \"Lagos\",\n",
        "                          \"Mushin\": \"Lagos\",\n",
        "                          \"Abuja \": \"Abuja\", \n",
        "                          \"Ogun State\": \"Ogun\",\n",
        "                          \"Arepo ogun state \": \"Ogun\",\n",
        "                          \"Abia\": \"other\"}, inplace = True)"
      ],
      "metadata": {
        "id": "FE0M5qiBxc8r"
      },
      "execution_count": null,
      "outputs": []
    },
    {
      "cell_type": "code",
      "source": [
        "train[\"isimported\"].value_counts()"
      ],
      "metadata": {
        "colab": {
          "base_uri": "https://localhost:8080/"
        },
        "id": "l_rJyFk-8TF6",
        "outputId": "1d1094a8-26a5-48ab-97dd-c426053847ce"
      },
      "execution_count": null,
      "outputs": [
        {
          "output_type": "execute_result",
          "data": {
            "text/plain": [
              "Foreign Used    744\n",
              "Locally used    248\n",
              "New              23\n",
              "Name: isimported, dtype: int64"
            ]
          },
          "metadata": {},
          "execution_count": 98
        }
      ]
    },
    {
      "cell_type": "code",
      "source": [
        "train[\"engine\"].value_counts()"
      ],
      "metadata": {
        "colab": {
          "base_uri": "https://localhost:8080/"
        },
        "id": "U64kiMZe9Zrf",
        "outputId": "fb2860c9-1f9a-45fa-edf9-89fe03ff1909"
      },
      "execution_count": null,
      "outputs": [
        {
          "output_type": "execute_result",
          "data": {
            "text/plain": [
              "4-cylinder(I4)    618\n",
              "6-cylinder(V6)    222\n",
              "6-cylinder(I6)    118\n",
              "8-cylinder(V8)     49\n",
              "3-cylinder(I3)      3\n",
              "4-cylinder(H4)      2\n",
              "5-cylinder(I5)      2\n",
              "2-cylinder(I2)      1\n",
              "Name: engine, dtype: int64"
            ]
          },
          "metadata": {},
          "execution_count": 99
        }
      ]
    },
    {
      "cell_type": "code",
      "source": [
        "test[\"engine\"].value_counts()"
      ],
      "metadata": {
        "colab": {
          "base_uri": "https://localhost:8080/"
        },
        "id": "ZybQeS4VzX_V",
        "outputId": "67ea9ffc-7227-4022-d49f-e695931b577e"
      },
      "execution_count": null,
      "outputs": [
        {
          "output_type": "execute_result",
          "data": {
            "text/plain": [
              "4-cylinder(I4)      278\n",
              "6-cylinder(V6)       89\n",
              "6-cylinder(I6)       44\n",
              "8-cylinder(V8)       21\n",
              "5-cylinder(I5)        1\n",
              "2-cylinder(I2)        1\n",
              "12-cylinder(V12)      1\n",
              "3-cylinder(I3)        1\n",
              "Name: engine, dtype: int64"
            ]
          },
          "metadata": {},
          "execution_count": 200
        }
      ]
    },
    {
      "cell_type": "code",
      "source": [
        "train[\"transmission\"].value_counts()"
      ],
      "metadata": {
        "colab": {
          "base_uri": "https://localhost:8080/"
        },
        "id": "QfaZv5zolJMK",
        "outputId": "7b05ed54-c02b-49b7-aa42-3304e0dce1d8"
      },
      "execution_count": null,
      "outputs": [
        {
          "output_type": "execute_result",
          "data": {
            "text/plain": [
              "automatic    965\n",
              "manual        50\n",
              "Name: transmission, dtype: int64"
            ]
          },
          "metadata": {},
          "execution_count": 100
        }
      ]
    },
    {
      "cell_type": "code",
      "source": [
        "train[\"fuel\"].value_counts()"
      ],
      "metadata": {
        "colab": {
          "base_uri": "https://localhost:8080/"
        },
        "id": "xsiP63cZlOs3",
        "outputId": "8fdf75df-198e-4cd4-d071-58d490dee2ea"
      },
      "execution_count": null,
      "outputs": [
        {
          "output_type": "execute_result",
          "data": {
            "text/plain": [
              "petrol    970\n",
              "diesel     45\n",
              "Name: fuel, dtype: int64"
            ]
          },
          "metadata": {},
          "execution_count": 101
        }
      ]
    },
    {
      "cell_type": "code",
      "source": [
        "train[\"paint\"].value_counts()\n",
        "# 색깔의 가지수가 너무 많아 전처리 필요"
      ],
      "metadata": {
        "colab": {
          "base_uri": "https://localhost:8080/"
        },
        "id": "7i39dHPflQZx",
        "outputId": "75b5e82b-b931-4b9e-a505-052d97050277"
      },
      "execution_count": null,
      "outputs": [
        {
          "output_type": "execute_result",
          "data": {
            "text/plain": [
              "Black          292\n",
              "White          115\n",
              "Silver         103\n",
              "Grey            84\n",
              "Blue            70\n",
              "              ... \n",
              "WINE             1\n",
              "Silver/grey      1\n",
              "Ink blue         1\n",
              "Light blue       1\n",
              "Off white l      1\n",
              "Name: paint, Length: 76, dtype: int64"
            ]
          },
          "metadata": {},
          "execution_count": 102
        }
      ]
    },
    {
      "cell_type": "code",
      "source": [
        "train[\"paint\"] = train[\"paint\"].str.lower()\n",
        "train[\"paint\"] = train[\"paint\"].str.strip()\n",
        "\n",
        "train[\"paint\"].replace({\"gray\": \"grey\",\n",
        "                        \"redl\": \"red\",\n",
        "                        \"black/red\": \"black\",\n",
        "                        \"deep blue\": \"blue\",\n",
        "                        \"dark grey\": \"grey\",\n",
        "                        \"dark blue\": \"blue\",\n",
        "                        \"dark gray\": \"grey\",\n",
        "                        \"midnight black metal\": \"black\",\n",
        "                        \"dark ash\": \"grey\",\n",
        "                        \"white orchild pearl\": \"white\",\n",
        "                        \"milk\": \"white\",\n",
        "                        \"dark green\": \"green\",\n",
        "                        \"light gold\": \"gold\",\n",
        "                        \"white-blue\": \"white\",\n",
        "                        \"magnetic gray\": \"grey\",\n",
        "                        \"dark silver\": \"silver\",\n",
        "                        \"black.\": \"black\",\n",
        "                        \"silver/grey\": \"grey\",\n",
        "                        \"ink blue\": \"blue\",\n",
        "                        \"light blue\": \"blue\",\n",
        "                        \"sky blue\": \"blue\",\n",
        "                        \"gery\": \"grey\",\n",
        "                        \"pale brown\": \"brown\",\n",
        "                        \"whine\": \"wine\",\n",
        "                        \"black and silver\": \"black\",\n",
        "                        \"light silver\": \"silver\",\n",
        "                        \"black sand pearl\": \"black\",\n",
        "                        \"off white\": \"white\",\n",
        "                        \"ash\": \"grey\",\n",
        "                        \"maroon\": \"wine\",\n",
        "                        \"navy blue\": \"blue\",\n",
        "                        \"super white\": \"white\",\n",
        "                        \"ash and black\": \"grey\",\n",
        "                        \"magnetic gray metallic\": \"grey\",\n",
        "                        \"skye blue\": \"blue\",\n",
        "                        \"off white l\": \"white\"}, inplace = True)\n",
        "\n",
        "\n",
        "test[\"paint\"] = test[\"paint\"].str.lower()\n",
        "test[\"paint\"] = test[\"paint\"].str.strip()\n",
        "\n",
        "test[\"paint\"].replace({\"gray\": \"grey\",\n",
        "                       \"redl\": \"red\",\n",
        "                       \"black/red\": \"black\",\n",
        "                       \"deep blue\": \"blue\",\n",
        "                       \"dark grey\": \"grey\",\n",
        "                       \"dark blue\": \"blue\",\n",
        "                       \"dark gray\": \"grey\",\n",
        "                       \"midnight black metal\": \"black\",\n",
        "                       \"dark ash\": \"grey\",\n",
        "                       \"white orchild pearl\": \"white\",\n",
        "                       \"milk\": \"white\",\n",
        "                       \"dark green\": \"green\",\n",
        "                       \"light gold\": \"gold\",\n",
        "                       \"white-blue\": \"white\",\n",
        "                       \"magnetic gray\": \"grey\",\n",
        "                       \"dark silver\": \"silver\",\n",
        "                       \"black.\": \"black\",\n",
        "                       \"silver/grey\": \"grey\",\n",
        "                       \"ink blue\": \"blue\",\n",
        "                       \"light blue\": \"blue\",\n",
        "                       \"sky blue\": \"blue\",\n",
        "                       \"gery\": \"grey\",\n",
        "                       \"pale brown\": \"brown\",\n",
        "                       \"whine\": \"wine\",\n",
        "                       \"black and silver\": \"black\",\n",
        "                       \"light silver\": \"silver\",\n",
        "                       \"black sand pearl\": \"black\",\n",
        "                       \"off white\": \"white\",\n",
        "                       \"ash\": \"grey\",\n",
        "                       \"maroon\": \"wine\",\n",
        "                       \"navy blue\": \"blue\",\n",
        "                       \"super white\": \"white\",\n",
        "                       \"ash and black\": \"grey\",\n",
        "                       \"magnetic gray metallic\": \"grey\",\n",
        "                       \"skye blue\": \"blue\",\n",
        "                       \"off white l\": \"white\",\n",
        "                       \"white and green\": \"white\",\n",
        "                       \"light grey\": \"grey\",\n",
        "                       \"blac\": \"black\",\n",
        "                       \"golf\": \"green\",\n",
        "                       \"indigo ink pearl\": \"blue\",\n",
        "                       \"grey and black\": \"grey\",\n",
        "                       \"mint green\": \"green\",\n",
        "                       \"classic silver met(1f7)\": \"silver\"}, inplace = True)"
      ],
      "metadata": {
        "id": "NLr7cyb-tcQC"
      },
      "execution_count": null,
      "outputs": []
    },
    {
      "cell_type": "code",
      "source": [
        "train[\"paint\"].unique()"
      ],
      "metadata": {
        "colab": {
          "base_uri": "https://localhost:8080/"
        },
        "id": "wIfC_CUdshFn",
        "outputId": "3c42feae-2ef5-499c-d041-cc0da2b6f3fa"
      },
      "execution_count": null,
      "outputs": [
        {
          "output_type": "execute_result",
          "data": {
            "text/plain": [
              "array(['red', 'black', 'grey', 'white', 'blue', 'silver', 'brown',\n",
              "       'green', 'purple', 'gold', 'beige', 'orange', 'cream', 'sliver',\n",
              "       'yellow', 'wine'], dtype=object)"
            ]
          },
          "metadata": {},
          "execution_count": 212
        }
      ]
    },
    {
      "cell_type": "code",
      "source": [
        "test[\"paint\"].unique()"
      ],
      "metadata": {
        "colab": {
          "base_uri": "https://localhost:8080/"
        },
        "id": "qlGtHzY30TLJ",
        "outputId": "2624fb05-2d17-4c57-8440-557fb3d0fca5"
      },
      "execution_count": null,
      "outputs": [
        {
          "output_type": "execute_result",
          "data": {
            "text/plain": [
              "array(['white', 'black', 'grey', 'red', 'silver', 'blue', 'gold', 'green',\n",
              "       'sliver', 'cream', 'brown', 'yellow', 'wine', 'beige'],\n",
              "      dtype=object)"
            ]
          },
          "metadata": {},
          "execution_count": 216
        }
      ]
    },
    {
      "cell_type": "code",
      "source": [
        "plt.boxplot(train[\"year\"])\n",
        "# 1200년대 제작... 삭제..."
      ],
      "metadata": {
        "colab": {
          "base_uri": "https://localhost:8080/",
          "height": 414
        },
        "id": "ubMNhDsUlWYp",
        "outputId": "f75beee9-d335-4fc4-8404-a5f3a6eb392a"
      },
      "execution_count": null,
      "outputs": [
        {
          "output_type": "execute_result",
          "data": {
            "text/plain": [
              "{'boxes': [<matplotlib.lines.Line2D at 0x7fd854ee8250>],\n",
              " 'caps': [<matplotlib.lines.Line2D at 0x7fd854eed350>,\n",
              "  <matplotlib.lines.Line2D at 0x7fd854eed990>],\n",
              " 'fliers': [<matplotlib.lines.Line2D at 0x7fd854ef5390>],\n",
              " 'means': [],\n",
              " 'medians': [<matplotlib.lines.Line2D at 0x7fd854eede10>],\n",
              " 'whiskers': [<matplotlib.lines.Line2D at 0x7fd854ee8810>,\n",
              "  <matplotlib.lines.Line2D at 0x7fd854ee8d50>]}"
            ]
          },
          "metadata": {},
          "execution_count": 104
        },
        {
          "output_type": "display_data",
          "data": {
            "text/plain": [
              "<Figure size 432x288 with 1 Axes>"
            ],
            "image/png": "[encoded data removed]"
          },
          "metadata": {
            "needs_background": "light"
          }
        }
      ]
    },
    {
      "cell_type": "code",
      "source": [
        "train.drop(train.loc[train[\"year\"] <= 1500].index, inplace = True)"
      ],
      "metadata": {
        "id": "SxdsiZLol0xX"
      },
      "execution_count": null,
      "outputs": []
    },
    {
      "cell_type": "code",
      "source": [
        "plt.boxplot(train[\"year\"])\n",
        "# 쳐내니 나음"
      ],
      "metadata": {
        "colab": {
          "base_uri": "https://localhost:8080/",
          "height": 414
        },
        "id": "CBFNxLIWm_Xj",
        "outputId": "578f5b58-591a-4be4-8587-dbc3a81b6849"
      },
      "execution_count": null,
      "outputs": [
        {
          "output_type": "execute_result",
          "data": {
            "text/plain": [
              "{'boxes': [<matplotlib.lines.Line2D at 0x7fd85355d610>],\n",
              " 'caps': [<matplotlib.lines.Line2D at 0x7fd8535652d0>,\n",
              "  <matplotlib.lines.Line2D at 0x7fd853565810>],\n",
              " 'fliers': [<matplotlib.lines.Line2D at 0x7fd85356d310>],\n",
              " 'means': [],\n",
              " 'medians': [<matplotlib.lines.Line2D at 0x7fd853565d90>],\n",
              " 'whiskers': [<matplotlib.lines.Line2D at 0x7fd85355db50>,\n",
              "  <matplotlib.lines.Line2D at 0x7fd85355d290>]}"
            ]
          },
          "metadata": {},
          "execution_count": 128
        },
        {
          "output_type": "display_data",
          "data": {
            "text/plain": [
              "<Figure size 432x288 with 1 Axes>"
            ],
            "image/png": "[encoded data removed]"
          },
          "metadata": {
            "needs_background": "light"
          }
        }
      ]
    },
    {
      "cell_type": "code",
      "source": [
        "test.drop(test.loc[test[\"year\"] <= 1900].index, inplace = True)\n",
        "test.drop(test.loc[test[\"year\"] >= 2100].index, inplace = True)\n"
      ],
      "metadata": {
        "id": "KpF4qH6Q6JOF"
      },
      "execution_count": null,
      "outputs": []
    },
    {
      "cell_type": "code",
      "source": [
        "plt.boxplot(test[\"year\"])"
      ],
      "metadata": {
        "id": "07JrEAmp6pic",
        "outputId": "643ad393-7499-4596-c1b5-1d518dc55c3c",
        "colab": {
          "base_uri": "https://localhost:8080/",
          "height": 414
        }
      },
      "execution_count": null,
      "outputs": [
        {
          "output_type": "execute_result",
          "data": {
            "text/plain": [
              "{'boxes': [<matplotlib.lines.Line2D at 0x7fd84e878890>],\n",
              " 'caps': [<matplotlib.lines.Line2D at 0x7fd84e5287d0>,\n",
              "  <matplotlib.lines.Line2D at 0x7fd84e5284d0>],\n",
              " 'fliers': [<matplotlib.lines.Line2D at 0x7fd84e7b5f10>],\n",
              " 'means': [],\n",
              " 'medians': [<matplotlib.lines.Line2D at 0x7fd84e7b5b10>],\n",
              " 'whiskers': [<matplotlib.lines.Line2D at 0x7fd84e801210>,\n",
              "  <matplotlib.lines.Line2D at 0x7fd84e801dd0>]}"
            ]
          },
          "metadata": {},
          "execution_count": 225
        },
        {
          "output_type": "display_data",
          "data": {
            "text/plain": [
              "<Figure size 432x288 with 1 Axes>"
            ],
            "image/png": "[encoded data removed]"
          },
          "metadata": {
            "needs_background": "light"
          }
        }
      ]
    },
    {
      "cell_type": "code",
      "source": [
        "sns.distplot(train[\"target\"], kde=True, rug=True)"
      ],
      "metadata": {
        "colab": {
          "base_uri": "https://localhost:8080/",
          "height": 403
        },
        "id": "04DYHfw3HeyU",
        "outputId": "ccfddb10-832e-4762-e16c-816ec8dab492"
      },
      "execution_count": null,
      "outputs": [
        {
          "output_type": "stream",
          "name": "stderr",
          "text": [
            "/usr/local/lib/python3.7/dist-packages/seaborn/distributions.py:2619: FutureWarning: `distplot` is a deprecated function and will be removed in a future version. Please adapt your code to use either `displot` (a figure-level function with similar flexibility) or `histplot` (an axes-level function for histograms).\n",
            "  warnings.warn(msg, FutureWarning)\n",
            "/usr/local/lib/python3.7/dist-packages/seaborn/distributions.py:2103: FutureWarning: The `axis` variable is no longer used and will be removed. Instead, assign variables directly to `x` or `y`.\n",
            "  warnings.warn(msg, FutureWarning)\n"
          ]
        },
        {
          "output_type": "execute_result",
          "data": {
            "text/plain": [
              "<matplotlib.axes._subplots.AxesSubplot at 0x7fd85137dbd0>"
            ]
          },
          "metadata": {},
          "execution_count": 132
        },
        {
          "output_type": "display_data",
          "data": {
            "text/plain": [
              "<Figure size 432x288 with 1 Axes>"
            ],
            "image/png": "[encoded data removed]"
          },
          "metadata": {
            "needs_background": "light"
          }
        }
      ]
    },
    {
      "cell_type": "code",
      "source": [
        "sns.distplot(np.log(train[\"target\"]), kde=True)"
      ],
      "metadata": {
        "colab": {
          "base_uri": "https://localhost:8080/",
          "height": 355
        },
        "id": "svk6PH4s-F4d",
        "outputId": "1ee9f9ce-b18a-4a23-b4d2-a7eea144c51f"
      },
      "execution_count": null,
      "outputs": [
        {
          "output_type": "stream",
          "name": "stderr",
          "text": [
            "/usr/local/lib/python3.7/dist-packages/seaborn/distributions.py:2619: FutureWarning: `distplot` is a deprecated function and will be removed in a future version. Please adapt your code to use either `displot` (a figure-level function with similar flexibility) or `histplot` (an axes-level function for histograms).\n",
            "  warnings.warn(msg, FutureWarning)\n"
          ]
        },
        {
          "output_type": "execute_result",
          "data": {
            "text/plain": [
              "<matplotlib.axes._subplots.AxesSubplot at 0x7fd84e87f5d0>"
            ]
          },
          "metadata": {},
          "execution_count": 218
        },
        {
          "output_type": "display_data",
          "data": {
            "text/plain": [
              "<Figure size 432x288 with 1 Axes>"
            ],
            "image/png": "[encoded data removed]"
          },
          "metadata": {
            "needs_background": "light"
          }
        }
      ]
    },
    {
      "cell_type": "code",
      "source": [
        "#라벨인코딩을 하기 위함 dictionary map 생성 함수\n",
        "def make_label_map(dataframe):\n",
        "    label_maps = {}\n",
        "    for col in dataframe.columns:\n",
        "        if dataframe[col].dtype=='object':\n",
        "            label_map = {'unknown':0}\n",
        "            for i, key in enumerate(dataframe[col].unique()):\n",
        "                label_map[key] = i+1  #새로 등장하는 유니크 값들에 대해 1부터 1씩 증가시켜 키값을 부여해줍니다.\n",
        "            label_maps[col] = label_map\n",
        "    print(label_maps)\n",
        "    return label_maps\n",
        "\n",
        "# 각 범주형 변수에 인코딩 값을 부여하는 함수\n",
        "def label_encoder(dataframe, label_map):\n",
        "    for col in dataframe.columns:\n",
        "        if dataframe[col].dtype=='object':\n",
        "            dataframe[col] = dataframe[col].map(label_map[col])\n",
        "            dataframe[col] = dataframe[col].fillna(label_map[col]['unknown']) #혹시 모를 결측값은 unknown의 값(0)으로 채워줍니다.\n",
        "    return dataframe\n",
        "\n",
        "le = make_label_map(train)\n",
        "train = label_encoder(train, le)\n",
        "train.head()"
      ],
      "metadata": {
        "colab": {
          "base_uri": "https://localhost:8080/",
          "height": 245
        },
        "id": "ScFXovAfBEnH",
        "outputId": "cbf46805-88e2-4472-e9ab-996304f662a2"
      },
      "execution_count": null,
      "outputs": [
        {
          "output_type": "stream",
          "name": "stdout",
          "text": [
            "{'title': {'unknown': 0, 'Toyota RAV 4': 1, 'Toyota Land Cruiser': 2, 'Land Rover Range Rover Evoque': 3, 'Lexus ES 350': 4, 'Toyota Venza': 5, 'Toyota Corolla': 6, 'Land Rover Range Rover Sport': 7, 'Pontiac Vibe': 8, 'Toyota Tacoma': 9, 'Lexus RX 350': 10, 'Ford Escape': 11, 'Honda Civic': 12, 'Volvo XC90': 13, 'BMW 750': 14, 'Infiniti JX': 15, 'Honda Accord': 16, 'Mercedes-Benz ML 350': 17, 'Toyota Camry': 18, 'Hyundai Azera': 19, 'Lexus GX 460': 20, 'BMW 325': 21, 'Toyota Sienna': 22, 'Honda Fit': 23, 'Honda CR-V': 24, 'Hyundai Tucson': 25, 'Ford Transit': 26, 'Jaguar XJ8': 27, 'BMW X6': 28, 'Mercedes-Benz C 300': 29, 'Mitsubishi Galant': 30, 'Mercedes-Benz GL 450': 31, 'Lexus RX 300': 32, 'Toyota Highlander': 33, 'Mitsubishi CANTER PICK UP': 34, 'Nissan Titan': 35, 'Lexus IS 250': 36, 'Mercedes-Benz 200': 37, 'Toyota Sequoia': 38, 'Ford Explorer': 39, 'Hyundai ix35': 40, 'Mack CH613 CONVENTIONAL CAB': 41, 'Lexus CT 200h': 42, 'Lexus LX 570': 43, 'Toyota Avensis': 44, 'Toyota 4-Runner': 45, 'Mercedes-Benz GLE 350': 46, 'Mercedes-Benz E 300': 47, 'Toyota Avalon': 48, 'Chevrolet Camaro': 49, 'Mack CXN613 CAB BEHIND ENGINE': 50, 'Land Rover Range Rover': 51, 'Mazda CX-9': 52, 'Lexus RX 330': 53, 'Lincoln Mark': 54, 'Kia Optima': 55, 'Volkswagen LT': 56, 'Lexus GS 300': 57, 'Jaguar X-Type': 58, 'Mercedes-Benz 709 DB': 59, 'Nissan Altima': 60, 'Acura MDX': 61, 'DAF 95XF TRACTOR HEAD': 62, 'Man TGA 18.360': 63, 'Nissan Pathfinder': 64, 'Mercedes-Benz E 350': 65, 'Honda Crosstour': 66, 'Honda Pilot': 67, 'Lexus LS 460': 68, 'Nissan Cabstar': 69, 'Kia Sorento': 70, 'Mercedes-Benz CLA 250': 71, 'Mitsubishi Pajero': 72, 'Mercedes-Benz C 350': 73, 'Lexus GS 350': 74, 'Mercedes-Benz E 320': 75, 'Toyota Yaris': 76, 'Toyota Matrix': 77, 'Isuzu NQR': 78, 'IVM LT35': 79, 'Hyundai Elantra': 80, 'Porsche Cayenne': 81, 'Toyota Prado': 82, 'Hyundai Sonata': 83, 'MINI Cooper': 84, 'Toyota Hiace': 85, 'Mercedes-Benz 350': 86, 'Honda Odyssey': 87, 'Mercedes-Benz E 550': 88, 'Dodge Charger': 89, 'GMC Terrain': 90, 'Mercedes-Benz GLK 350': 91, 'Mercedes-Benz C 250': 92, 'Mercedes-Benz ML 430': 93, 'Mack CH613': 94, 'Honda Element': 95, 'Mercedes-Benz GLC 300': 96, 'Hyundai Santa Fe': 97, 'Kia Cerato': 98, 'Chevrolet Evanda': 99, 'Iveco TRUCK': 100, 'Acura ZDX': 101, 'Mercedes-Benz 450': 102, 'Mercedes-Benz GLA 250': 103, 'Mercedes-Benz CLS 500': 104, 'Scania P94 FLATBED': 105, 'Nissan Versa': 106, 'Ford F 150': 107, 'Mercedes-Benz GLE 43 AMG': 108, 'Volkswagen Golf': 109, 'Mercedes-Benz 320': 110, 'Honda Ridgeline': 111, 'Mercedes-Benz S 450': 112, 'Mercedes-Benz 300': 113, 'Kia Rio': 114, 'BMW 740': 115, 'Ford Edge': 116, 'Toyota Dyna': 117, 'Volvo FL6': 118, 'Toyota Coaster': 119, 'GAC Gonow Other': 120, 'IVECO EUROTECH 7.50E-16': 121, 'DAF FA 55. 180': 122, 'Scania TRACTOR HEAD': 123, 'Nissan Xterra': 124, 'Mercedes-Benz ML 320': 125, 'Ford Focus': 126, 'Mercedes-Benz 220': 127, 'Man Truck 18.44': 128, 'BMW 730': 129, 'Peugeot 607': 130, 'BMW 528': 131, 'Volvo XC60': 132, 'Mercedes-Benz E 200': 133, 'Volkswagen Passat': 134, 'Volkswagen Sharan': 135, 'Lexus GX 470': 136, 'Nissan Quest': 137, 'Nissan Maxima': 138, 'Lexus ES 300': 139, 'Mazda Tribute': 140, 'Ford Fusion': 141, 'Acura RDX': 142, 'Peugeot 206': 143, 'Mercedes-Benz G 63 AMG': 144, 'Toyota Hilux': 145, 'Kia Stinger': 146, 'Volkswagen Tiguan': 147, 'Acura TL': 148, 'Porsche Panamera': 149, 'Rolls-Royce Ghost': 150, 'BMW 745': 151, 'BMW 335': 152, 'Volkswagen Jetta': 153, 'Mack R-686ST': 154, 'Man Diesel 19.314 FILT-N': 155, 'Toyota Solara': 156, 'Kia Soul': 157, 'Mercedes-Benz C 450 AMG': 158, 'Mack CXN613': 159, 'Nissan Murano': 160, 'Chevrolet Traverse': 161, 'Volkswagen T4 Caravelle': 162, 'MAN-VOLKSWAGEN FLATBED': 163, 'Nissan Frontier': 164, 'Nissan X-Trail': 165, 'Mercedes-Benz C 180': 166, 'Infiniti M35': 167, 'Nissan Sentra': 168, 'Jeep Cherokee': 169, 'Toyota DYNA 200': 170, 'Nissan Rogue': 171, 'Land Rover Range Rover Velar': 172, 'ALPINA B3': 173, 'DAF 45': 174, 'Mazda 323': 175, 'Volkswagen T6 other': 176, 'Bentley Arnage': 177, 'Mazda 6': 178, 'Infiniti FX': 179, 'Ford Expedition': 180, 'Mercedes-Benz 814': 181, 'Kia Picanto': 182, 'Toyota Tundra': 183, 'JMC Vigus': 184, 'Infiniti QX80': 185, 'Volvo FH12': 186, 'Volkswagen Touareg': 187, 'Porsche Macan': 188, 'Peugeot 308': 189, 'Nissan INFINITI M90.150/2': 190, 'MINI Cooper Countryman': 191, 'Lexus ES 330': 192, 'Honda Insight': 193, 'Toyota Vitz': 194, 'Audi S6': 195, 'Isuzu CABSTER': 196, 'Mercedes-Benz C 63 AMG': 197, 'Mercedes-Benz SL 400': 198, 'Volkswagen 17.22': 199, 'Man BOCKMANN': 200, 'DAF CF': 201}, 'location': {'unknown': 0, 'Lagos': 1, 'Abuja': 2, 'Ogun': 3, 'other': 4}, 'isimported': {'unknown': 0, 'Foreign Used': 1, 'New ': 2, 'Locally used': 3}, 'engine': {'unknown': 0, '4-cylinder(I4)': 1, '6-cylinder(V6)': 2, '8-cylinder(V8)': 3, '6-cylinder(I6)': 4, '4-cylinder(H4)': 5, '5-cylinder(I5)': 6, '3-cylinder(I3)': 7, '2-cylinder(I2)': 8}, 'transmission': {'unknown': 0, 'automatic': 1, 'manual': 2}, 'fuel': {'unknown': 0, 'petrol': 1, 'diesel': 2}, 'paint': {'unknown': 0, 'red': 1, 'black': 2, 'grey': 3, 'white': 4, 'blue': 5, 'silver': 6, 'brown': 7, 'green': 8, 'purple': 9, 'gold': 10, 'beige': 11, 'orange': 12, 'cream': 13, 'sliver': 14, 'yellow': 15, 'wine': 16}, 'brand': {'unknown': 0, 'Toyota': 1, 'Land': 2, 'Lexus': 3, 'Pontiac': 4, 'Ford': 5, 'Honda': 6, 'Volvo': 7, 'BMW': 8, 'Infiniti': 9, 'Mercedes-Benz': 10, 'Hyundai': 11, 'Jaguar': 12, 'Mitsubishi': 13, 'Nissan': 14, 'Mack': 15, 'Chevrolet': 16, 'Mazda': 17, 'Lincoln': 18, 'Kia': 19, 'Volkswagen': 20, 'Acura': 21, 'DAF': 22, 'Man': 23, 'Isuzu': 24, 'IVM': 25, 'Porsche': 26, 'MINI': 27, 'Dodge': 28, 'GMC': 29, 'Iveco': 30, 'Scania': 31, 'GAC': 32, 'IVECO': 33, 'Peugeot': 34, 'Rolls-Royce': 35, 'MAN-VOLKSWAGEN': 36, 'Jeep': 37, 'ALPINA': 38, 'Bentley': 39, 'JMC': 40, 'Audi': 41}}\n"
          ]
        },
        {
          "output_type": "execute_result",
          "data": {
            "text/plain": [
              "   title  odometer  location  isimported  engine  transmission  fuel  paint  \\\n",
              "0      1     18277         1           1       1             1     1      1   \n",
              "1      2        10         1           2       1             1     1      2   \n",
              "2      3     83091         1           1       2             1     1      1   \n",
              "3      4     91524         1           1       1             1     1      3   \n",
              "4      5     94177         1           1       2             1     1      1   \n",
              "\n",
              "   year    target  brand  \n",
              "0  2016  13665000      1  \n",
              "1  2019  33015000      1  \n",
              "2  2012   9915000      2  \n",
              "3  2007   3815000      3  \n",
              "4  2010   7385000      1  "
            ],
            "text/html": [
              "\n",
              "  <div id=\"df-6f03915f-0f1b-4755-b57a-2d7290ff138f\">\n",
              "    <div class=\"colab-df-container\">\n",
              "      <div>\n",
              "<style scoped>\n",
              "    .dataframe tbody tr th:only-of-type {\n",
              "        vertical-align: middle;\n",
              "    }\n",
              "\n",
              "    .dataframe tbody tr th {\n",
              "        vertical-align: top;\n",
              "    }\n",
              "\n",
              "    .dataframe thead th {\n",
              "        text-align: right;\n",
              "    }\n",
              "</style>\n",
              "<table border=\"1\" class=\"dataframe\">\n",
              "  <thead>\n",
              "    <tr style=\"text-align: right;\">\n",
              "      <th></th>\n",
              "      <th>title</th>\n",
              "      <th>odometer</th>\n",
              "      <th>location</th>\n",
              "      <th>isimported</th>\n",
              "      <th>engine</th>\n",
              "      <th>transmission</th>\n",
              "      <th>fuel</th>\n",
              "      <th>paint</th>\n",
              "      <th>year</th>\n",
              "      <th>target</th>\n",
              "      <th>brand</th>\n",
              "    </tr>\n",
              "  </thead>\n",
              "  <tbody>\n",
              "    <tr>\n",
              "      <th>0</th>\n",
              "      <td>1</td>\n",
              "      <td>18277</td>\n",
              "      <td>1</td>\n",
              "      <td>1</td>\n",
              "      <td>1</td>\n",
              "      <td>1</td>\n",
              "      <td>1</td>\n",
              "      <td>1</td>\n",
              "      <td>2016</td>\n",
              "      <td>13665000</td>\n",
              "      <td>1</td>\n",
              "    </tr>\n",
              "    <tr>\n",
              "      <th>1</th>\n",
              "      <td>2</td>\n",
              "      <td>10</td>\n",
              "      <td>1</td>\n",
              "      <td>2</td>\n",
              "      <td>1</td>\n",
              "      <td>1</td>\n",
              "      <td>1</td>\n",
              "      <td>2</td>\n",
              "      <td>2019</td>\n",
              "      <td>33015000</td>\n",
              "      <td>1</td>\n",
              "    </tr>\n",
              "    <tr>\n",
              "      <th>2</th>\n",
              "      <td>3</td>\n",
              "      <td>83091</td>\n",
              "      <td>1</td>\n",
              "      <td>1</td>\n",
              "      <td>2</td>\n",
              "      <td>1</td>\n",
              "      <td>1</td>\n",
              "      <td>1</td>\n",
              "      <td>2012</td>\n",
              "      <td>9915000</td>\n",
              "      <td>2</td>\n",
              "    </tr>\n",
              "    <tr>\n",
              "      <th>3</th>\n",
              "      <td>4</td>\n",
              "      <td>91524</td>\n",
              "      <td>1</td>\n",
              "      <td>1</td>\n",
              "      <td>1</td>\n",
              "      <td>1</td>\n",
              "      <td>1</td>\n",
              "      <td>3</td>\n",
              "      <td>2007</td>\n",
              "      <td>3815000</td>\n",
              "      <td>3</td>\n",
              "    </tr>\n",
              "    <tr>\n",
              "      <th>4</th>\n",
              "      <td>5</td>\n",
              "      <td>94177</td>\n",
              "      <td>1</td>\n",
              "      <td>1</td>\n",
              "      <td>2</td>\n",
              "      <td>1</td>\n",
              "      <td>1</td>\n",
              "      <td>1</td>\n",
              "      <td>2010</td>\n",
              "      <td>7385000</td>\n",
              "      <td>1</td>\n",
              "    </tr>\n",
              "  </tbody>\n",
              "</table>\n",
              "</div>\n",
              "      <button class=\"colab-df-convert\" onclick=\"convertToInteractive('df-6f03915f-0f1b-4755-b57a-2d7290ff138f')\"\n",
              "              title=\"Convert this dataframe to an interactive table.\"\n",
              "              style=\"display:none;\">\n",
              "        \n",
              "  <svg xmlns=\"http://www.w3.org/2000/svg\" height=\"24px\"viewBox=\"0 0 24 24\"\n",
              "       width=\"24px\">\n",
              "    <path d=\"M0 0h24v24H0V0z\" fill=\"none\"/>\n",
              "    <path d=\"M18.56 5.44l.94 2.06.94-2.06 2.06-.94-2.06-.94-.94-2.06-.94 2.06-2.06.94zm-11 1L8.5 8.5l.94-2.06 2.06-.94-2.06-.94L8.5 2.5l-.94 2.06-2.06.94zm10 10l.94 2.06.94-2.06 2.06-.94-2.06-.94-.94-2.06-.94 2.06-2.06.94z\"/><path d=\"M17.41 7.96l-1.37-1.37c-.4-.4-.92-.59-1.43-.59-.52 0-1.04.2-1.43.59L10.3 9.45l-7.72 7.72c-.78.78-.78 2.05 0 2.83L4 21.41c.39.39.9.59 1.41.59.51 0 1.02-.2 1.41-.59l7.78-7.78 2.81-2.81c.8-.78.8-2.07 0-2.86zM5.41 20L4 18.59l7.72-7.72 1.47 1.35L5.41 20z\"/>\n",
              "  </svg>\n",
              "      </button>\n",
              "      \n",
              "  <style>\n",
              "    .colab-df-container {\n",
              "      display:flex;\n",
              "      flex-wrap:wrap;\n",
              "      gap: 12px;\n",
              "    }\n",
              "\n",
              "    .colab-df-convert {\n",
              "      background-color: #E8F0FE;\n",
              "      border: none;\n",
              "      border-radius: 50%;\n",
              "      cursor: pointer;\n",
              "      display: none;\n",
              "      fill: #1967D2;\n",
              "      height: 32px;\n",
              "      padding: 0 0 0 0;\n",
              "      width: 32px;\n",
              "    }\n",
              "\n",
              "    .colab-df-convert:hover {\n",
              "      background-color: #E2EBFA;\n",
              "      box-shadow: 0px 1px 2px rgba(60, 64, 67, 0.3), 0px 1px 3px 1px rgba(60, 64, 67, 0.15);\n",
              "      fill: #174EA6;\n",
              "    }\n",
              "\n",
              "    [theme=dark] .colab-df-convert {\n",
              "      background-color: #3B4455;\n",
              "      fill: #D2E3FC;\n",
              "    }\n",
              "\n",
              "    [theme=dark] .colab-df-convert:hover {\n",
              "      background-color: #434B5C;\n",
              "      box-shadow: 0px 1px 3px 1px rgba(0, 0, 0, 0.15);\n",
              "      filter: drop-shadow(0px 1px 2px rgba(0, 0, 0, 0.3));\n",
              "      fill: #FFFFFF;\n",
              "    }\n",
              "  </style>\n",
              "\n",
              "      <script>\n",
              "        const buttonEl =\n",
              "          document.querySelector('#df-6f03915f-0f1b-4755-b57a-2d7290ff138f button.colab-df-convert');\n",
              "        buttonEl.style.display =\n",
              "          google.colab.kernel.accessAllowed ? 'block' : 'none';\n",
              "\n",
              "        async function convertToInteractive(key) {\n",
              "          const element = document.querySelector('#df-6f03915f-0f1b-4755-b57a-2d7290ff138f');\n",
              "          const dataTable =\n",
              "            await google.colab.kernel.invokeFunction('convertToInteractive',\n",
              "                                                     [key], {});\n",
              "          if (!dataTable) return;\n",
              "\n",
              "          const docLinkHtml = 'Like what you see? Visit the ' +\n",
              "            '<a target=\"_blank\" href=https://colab.research.google.com/notebooks/data_table.ipynb>data table notebook</a>'\n",
              "            + ' to learn more about interactive tables.';\n",
              "          element.innerHTML = '';\n",
              "          dataTable['output_type'] = 'display_data';\n",
              "          await google.colab.output.renderOutput(dataTable, element);\n",
              "          const docLink = document.createElement('div');\n",
              "          docLink.innerHTML = docLinkHtml;\n",
              "          element.appendChild(docLink);\n",
              "        }\n",
              "      </script>\n",
              "    </div>\n",
              "  </div>\n",
              "  "
            ]
          },
          "metadata": {},
          "execution_count": 14
        }
      ]
    },
    {
      "cell_type": "code",
      "source": [
        "train_X = train.drop([\"target\"], axis = 1)\n",
        "train_Y = train.target\n",
        "\n",
        "test_X = test"
      ],
      "metadata": {
        "id": "dy9xizNMWT4n"
      },
      "execution_count": null,
      "outputs": []
    },
    {
      "cell_type": "code",
      "source": [
        "from sklearn.ensemble import ExtraTreesRegressor\n",
        "from sklearn.ensemble import RandomForestRegressor\n",
        "from sklearn.ensemble import GradientBoostingRegressor\n",
        "\n",
        "#모델들을 할당할 리스트를 만들어줍니다.\n",
        "models = []\n",
        "\n",
        "#모델들을 각각 할당하여 리스트에 추가합니다.\n",
        "models.append(ExtraTreesRegressor(n_estimators=110))\n",
        "models.append(RandomForestRegressor(n_estimators=110))\n",
        "models.append(GradientBoostingRegressor(learning_rate=0.22, criterion='mae'))\n",
        "\n",
        "#모델들을 할당한 리스트를 불러와 순차적으로 train 데이터에 학습을 시켜줍니다.\n",
        "for model in models:\n",
        "    model.fit(train_X, train_Y)"
      ],
      "metadata": {
        "id": "RgqDsvdqBPS9"
      },
      "execution_count": null,
      "outputs": []
    },
    {
      "cell_type": "code",
      "source": [
        "test_X = label_encoder(test_X, le)"
      ],
      "metadata": {
        "id": "h8byxM2-Ajwt"
      },
      "execution_count": null,
      "outputs": []
    },
    {
      "cell_type": "code",
      "source": [
        "y_pred = model.predict(test_X)"
      ],
      "metadata": {
        "id": "7BUjygNk9OSC"
      },
      "execution_count": null,
      "outputs": []
    },
    {
      "cell_type": "code",
      "source": [
        "y_pred = np.append(y_pred, np.array([0, 0, 0]))"
      ],
      "metadata": {
        "id": "mfOLSlPZCgSc"
      },
      "execution_count": null,
      "outputs": []
    },
    {
      "cell_type": "code",
      "source": [
        "sub[\"target\"] = y_pred"
      ],
      "metadata": {
        "id": "UiI57DfOA2Uh"
      },
      "execution_count": null,
      "outputs": []
    },
    {
      "cell_type": "code",
      "source": [
        "sub.to_csv(path + \"submit2.csv\", index=False)"
      ],
      "metadata": {
        "id": "XwCszvqG89nr"
      },
      "execution_count": null,
      "outputs": []
    }
  ]
}